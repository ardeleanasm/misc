{
 "cells": [
  {
   "cell_type": "markdown",
   "metadata": {},
   "source": [
    "# Heuristic Methods"
   ]
  },
  {
   "cell_type": "markdown",
   "metadata": {},
   "source": [
    "## Neighborhood Search"
   ]
  },
  {
   "cell_type": "markdown",
   "metadata": {},
   "source": [
    "### Implementation"
   ]
  },
  {
   "cell_type": "code",
   "execution_count": 136,
   "metadata": {},
   "outputs": [],
   "source": [
    "import System.Random\n",
    "import Control.Monad ( replicateM)"
   ]
  },
  {
   "cell_type": "markdown",
   "metadata": {},
   "source": [
    "The first thing that should be done is to write some helper-functions for generating pseudorandom numbers. To do that, I'll start by defining **seed** for random generators and a function that will generate a finite length list of values in range, `getRandomValuesInRange::Int->Int->Int->IO [Int]`. For exercise purpose only, I'll define second function that will return a finite length list of doubles, uniformly distributed on $[0,1)$, `getRandomValues::Int->[Double]`."
   ]
  },
  {
   "cell_type": "code",
   "execution_count": 137,
   "metadata": {},
   "outputs": [],
   "source": [
    "seed::Int\n",
    "seed=(-958036805781772734)"
   ]
  },
  {
   "cell_type": "code",
   "execution_count": 138,
   "metadata": {},
   "outputs": [],
   "source": [
    "getRandomValues :: Int -> [Double]\n",
    "getRandomValues len=take len $ randoms (mkStdGen seed)::[Double]"
   ]
  },
  {
   "cell_type": "code",
   "execution_count": 139,
   "metadata": {},
   "outputs": [
    {
     "data": {
      "text/plain": [
       "[0.3173710114340238,0.9038063995872138,0.26811089937893495,0.2091390866782773]"
      ]
     },
     "metadata": {},
     "output_type": "display_data"
    },
    {
     "data": {
      "text/plain": []
     },
     "metadata": {},
     "output_type": "display_data"
    }
   ],
   "source": [
    "getRandomValues 4"
   ]
  },
  {
   "cell_type": "code",
   "execution_count": 140,
   "metadata": {},
   "outputs": [],
   "source": [
    "getRandomValuesInRange::Int->Int->Int->IO [Int]\n",
    "getRandomValuesInRange len a b = replicateM len (getStdRandom $ randomR (a,b))"
   ]
  },
  {
   "cell_type": "code",
   "execution_count": 141,
   "metadata": {},
   "outputs": [
    {
     "data": {
      "text/plain": [
       "[1,0,1,0,1,1,0,0]"
      ]
     },
     "metadata": {},
     "output_type": "display_data"
    }
   ],
   "source": [
    "getRandomValuesInRange 8 0 1"
   ]
  },
  {
   "cell_type": "code",
   "execution_count": 158,
   "metadata": {},
   "outputs": [],
   "source": [
    "newtype Item = Item { rawItem::(Int,Int) } deriving (Show,Eq)"
   ]
  },
  {
   "cell_type": "markdown",
   "metadata": {},
   "source": [
    "Next step is to define a generic datatype for the possible solutions. For a simple problem like knapsack the solution can be a list of binary values."
   ]
  },
  {
   "cell_type": "code",
   "execution_count": 159,
   "metadata": {},
   "outputs": [],
   "source": [
    "newtype Solution = Solution { rawSolution::([Int],Int)} deriving (Show,Eq)"
   ]
  },
  {
   "cell_type": "markdown",
   "metadata": {},
   "source": [
    "Normally, the next step should be to define a fitness function but that would make the implementation tightly coupled of the problem that solves. For example, if the implementation is needed to solve the knapsack problem, one of the parameters needed to be passed to the fitness function should be the dataset. Instead, a new type for dataset will be defined. \n",
    "\n",
    "For knapsack problem, dataset can be a list of tuples `(g,v)` where $g$ is the weight of the $n^{th}$ object and $v$ is the value of the object."
   ]
  },
  {
   "cell_type": "code",
   "execution_count": 160,
   "metadata": {},
   "outputs": [],
   "source": [
    "newtype Dataset = Dataset { rawDataset::(Int,[Item])} deriving (Show,Eq)"
   ]
  },
  {
   "cell_type": "markdown",
   "metadata": {},
   "source": [
    "Now a generic fitness function can be defined:"
   ]
  },
  {
   "cell_type": "code",
   "execution_count": 161,
   "metadata": {},
   "outputs": [],
   "source": [
    "fitness::Dataset -> Solution -> Int\n",
    "fitness dataset solution = fitnessValue\n",
    "    where\n",
    "        datasetRaw = rawDataset dataset\n",
    "        maxWeight = fst datasetRaw\n",
    "        items = map rawItem (snd datasetRaw)\n",
    "        individual = fst $ rawSolution solution\n",
    "        pairs = zip individual items\n",
    "        weight = foldl (\\acc x-> if fst x==1 then acc+fst (snd x) else acc+0) 0 pairs\n",
    "        value = foldl (\\acc x-> if fst x==1 then acc+snd (snd x) else acc+0) 0 pairs\n",
    "        fitnessValue = if weight <= maxWeight then value else 0"
   ]
  },
  {
   "cell_type": "markdown",
   "metadata": {},
   "source": [
    "Ok, it's a complicated function and it's problem specific. Ok, maybe not so complicated but maybe not good written. Let's take it step by step:\n",
    "\n",
    "1. It accepts 2 parameters of types Dataset and Solution, respectively\n",
    "2. `datasetRaw = rawDataset dataset` -> get the tuple (G,[(g,v)]), where G is Maximum Weight, g is item's weight and v is item's value.\n",
    "3. `maxWeight = fst datasetRaw` -> get the maximum weight from the tuple\n",
    "4. `items = map rawItem (snd datasetRaw)` -> get the list [(g,v)]\n",
    "5. `individual = fst $ rawSolution solution` -> extract the individual configuration from solution\n",
    "6. `pairs = zip individual items` -> create pairs of type [(is_item,(g,v))]\n",
    "7. `weight = foldl (\\acc x-> if fst x==1 then acc+fst (snd x) else acc+0) 0 pairs` -> extract total weight for solution\n",
    "8. `value = foldl (\\acc x-> if fst x==1 then acc+snd (snd x) else acc+0) 0 pairs` -> extract total value for solution\n",
    "9. `fitnessValue = if weight <= maxWeight then value else 0`"
   ]
  },
  {
   "cell_type": "markdown",
   "metadata": {},
   "source": [
    "Now the implementation of the function that will calculate the neighborhood can be done. The function will receive as parameters a fitness function, the dataset, current solution and will return a new solution. In other words, the function's type will be `getNewNeighbor::(Dataset->Solution->Double)->Dataset->Solution->Solution`"
   ]
  },
  {
   "cell_type": "markdown",
   "metadata": {},
   "source": [
    " ```python\n",
    " solutions=list()\n",
    "    for i in range(0,len(S)):\n",
    "        new_solution=list(S)\n",
    "        if S[i] == 0:\n",
    "            new_solution[i] = 1\n",
    "        else:\n",
    "            new_solution[i] = 0\n",
    "        value = cost_function(new_solution,max_weight,values,weights)\n",
    "        solutions.append((new_solution,value))\n",
    "    best_solution=max(solutions,key=lambda item:item[1])\n",
    "    return best_solution[0],best_solution[1]\n",
    "```"
   ]
  },
  {
   "cell_type": "code",
   "execution_count": 162,
   "metadata": {},
   "outputs": [],
   "source": [
    "replaceNth::Int -> Int->[Int]->[Int]\n",
    "replaceNth _ _ [] = []\n",
    "replaceNth index newVal (x:xs)\n",
    "    | index==0 = newVal:xs\n",
    "    | otherwise = x:replaceNth (index-1) newVal xs"
   ]
  },
  {
   "cell_type": "code",
   "execution_count": 191,
   "metadata": {},
   "outputs": [],
   "source": [
    "maximum'::[([Int],Int)]->([Int],Int)\n",
    "maximum' [] = error \"empty list\"\n",
    "maximum' (x:xs) = maxTail x xs\n",
    "    where maxTail currentMax [] = currentMax\n",
    "          maxTail (m,n) (p:ps)\n",
    "              | n<(snd p) = maxTail p ps\n",
    "              | otherwise = maxTail (m,n) ps"
   ]
  },
  {
   "cell_type": "code",
   "execution_count": 195,
   "metadata": {},
   "outputs": [],
   "source": [
    "calculateNeighborhood::(Dataset->Solution->Int)->Dataset->Solution->Int->[([Int],Int)]->[([Int],Int)]\n",
    "calculateNeighborhood _ _ _ 0 neighbors = neighbors\n",
    "calculateNeighborhood f dataset solution len neighbors = calculateNeighborhood f dataset solution (len-1) (neighbor:neighbors)\n",
    "    where\n",
    "        raw = fst $ rawSolution solution\n",
    "        newNeighbor = if raw !! (len-1) == 1 then replaceNth (len-1) 0 raw else replaceNth (len-1) 1 raw\n",
    "        fitnessValue = f dataset (Solution (newNeighbor,0))\n",
    "        neighbor = (newNeighbor,fitnessValue)"
   ]
  },
  {
   "cell_type": "code",
   "execution_count": 196,
   "metadata": {},
   "outputs": [],
   "source": [
    "getNewNeighbor::(Dataset->Solution->Int)->Dataset->Solution->Solution\n",
    "getNewNeighbor f dataset solution = result \n",
    "    where\n",
    "        rawList = fst $ rawSolution solution\n",
    "        neighbors = calculateNeighborhood f dataset solution (length rawList) []\n",
    "        result = Solution (maximum' neighbors)\n",
    "        "
   ]
  },
  {
   "cell_type": "code",
   "execution_count": 197,
   "metadata": {},
   "outputs": [],
   "source": [
    "a=Solution ([0,1,1,1,1],0)"
   ]
  },
  {
   "cell_type": "code",
   "execution_count": 198,
   "metadata": {},
   "outputs": [],
   "source": [
    "b=Dataset (10,[Item (1,1), Item (2,2),Item (3,3),Item (4,4),Item (5,5)])"
   ]
  },
  {
   "cell_type": "code",
   "execution_count": 199,
   "metadata": {},
   "outputs": [
    {
     "data": {
      "text/plain": [
       "Solution {rawSolution = ([0,1,1,0,1],10)}"
      ]
     },
     "metadata": {},
     "output_type": "display_data"
    }
   ],
   "source": [
    "getNewNeighbor fitness b a"
   ]
  },
  {
   "cell_type": "code",
   "execution_count": 200,
   "metadata": {},
   "outputs": [
    {
     "data": {
      "text/plain": [
       "[([1,1,1,1,1],0),([0,0,1,1,1],0),([0,1,0,1,1],0),([0,1,1,0,1],10),([0,1,1,1,0],9)]"
      ]
     },
     "metadata": {},
     "output_type": "display_data"
    }
   ],
   "source": [
    "calculateNeighborhood fitness b a 5 []"
   ]
  },
  {
   "cell_type": "code",
   "execution_count": 187,
   "metadata": {},
   "outputs": [],
   "source": [
    "a=[([1,1,1,1,1],0),([0,1,1,0,1],20),([0,1,0,1,1],0),([0,1,1,0,1],10),([0,1,1,1,0],9)]"
   ]
  },
  {
   "cell_type": "code",
   "execution_count": 188,
   "metadata": {},
   "outputs": [
    {
     "data": {
      "text/plain": [
       "[([1,1,1,1,1],0),([0,1,1,0,1],20),([0,1,0,1,1],0),([0,1,1,0,1],10),([0,1,1,1,0],9)]"
      ]
     },
     "metadata": {},
     "output_type": "display_data"
    }
   ],
   "source": [
    "a"
   ]
  },
  {
   "cell_type": "code",
   "execution_count": 189,
   "metadata": {},
   "outputs": [],
   "source": [
    "maximum'::[([Int],Int)]->([Int],Int)\n",
    "maximum' [] = error \"empty list\"\n",
    "maximum' (x:xs) = maxTail x xs\n",
    "    where maxTail currentMax [] = currentMax\n",
    "          maxTail (m,n) (p:ps)\n",
    "              | n<(snd p) = maxTail p ps\n",
    "              | otherwise = maxTail (m,n) ps"
   ]
  },
  {
   "cell_type": "code",
   "execution_count": 190,
   "metadata": {},
   "outputs": [
    {
     "data": {
      "text/plain": [
       "([0,1,1,0,1],20)"
      ]
     },
     "metadata": {},
     "output_type": "display_data"
    }
   ],
   "source": [
    "maximum' a"
   ]
  },
  {
   "cell_type": "code",
   "execution_count": null,
   "metadata": {},
   "outputs": [],
   "source": []
  }
 ],
 "metadata": {
  "kernelspec": {
   "display_name": "Haskell",
   "language": "haskell",
   "name": "haskell"
  },
  "language_info": {
   "codemirror_mode": "ihaskell",
   "file_extension": ".hs",
   "name": "haskell",
   "pygments_lexer": "Haskell",
   "version": "8.6.4"
  }
 },
 "nbformat": 4,
 "nbformat_minor": 2
}
