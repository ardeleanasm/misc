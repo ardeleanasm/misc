{
 "cells": [
  {
   "cell_type": "markdown",
   "metadata": {},
   "source": [
    "# Heuristic Methods"
   ]
  },
  {
   "cell_type": "markdown",
   "metadata": {},
   "source": [
    "## Neighborhood Search"
   ]
  },
  {
   "cell_type": "markdown",
   "metadata": {},
   "source": [
    "### Implementation"
   ]
  },
  {
   "cell_type": "code",
   "execution_count": 372,
   "metadata": {},
   "outputs": [],
   "source": [
    "import System.Random\n",
    "import System.IO.Unsafe\n",
    "import Control.Monad ( replicateM)"
   ]
  },
  {
   "cell_type": "markdown",
   "metadata": {},
   "source": [
    "The first thing that should be done is to write some helper-functions for generating pseudorandom numbers. To do that, I'll start by defining **seed** for random generators and a function that will generate a finite length list of values in range, `getRandomValuesInRange::Int->Int->Int->IO [Int]`. For exercise purpose only, I'll define second function that will return a finite length list of doubles, uniformly distributed on $[0,1)$, `getRandomValues::Int->[Double]`."
   ]
  },
  {
   "cell_type": "code",
   "execution_count": 373,
   "metadata": {},
   "outputs": [],
   "source": [
    "seed::Int\n",
    "seed=(-958036805781772734)"
   ]
  },
  {
   "cell_type": "code",
   "execution_count": 374,
   "metadata": {},
   "outputs": [],
   "source": [
    "getRandomValues :: Int -> [Double]\n",
    "getRandomValues len=take len $ randoms (mkStdGen seed)::[Double]"
   ]
  },
  {
   "cell_type": "code",
   "execution_count": 375,
   "metadata": {},
   "outputs": [],
   "source": [
    "getRandomValuesInRange::Int->Int->Int->IO [Int]\n",
    "getRandomValuesInRange len a b = replicateM len (getStdRandom $ randomR (a,b))"
   ]
  },
  {
   "cell_type": "markdown",
   "metadata": {},
   "source": [
    "Since `getRandomValuesInRange` returns a `IO` list of integers, I'll define a wrapper that will return a list of integers. The wrapper will abuse of `unsafe IO`. In a future implementation this wrapper will be removed and all operations will be performed safe."
   ]
  },
  {
   "cell_type": "code",
   "execution_count": 376,
   "metadata": {},
   "outputs": [],
   "source": [
    "getRandomValueUnsafe::Int->Int->Int->[Int]\n",
    "getRandomValueUnsafe len a b =unsafePerformIO $ getRandomValuesInRange len a b"
   ]
  },
  {
   "cell_type": "markdown",
   "metadata": {},
   "source": [
    "Now, I need to define the characteristics of an item. In case of knapsack problem, each item has a **weight** and a **value**. Considering this, I'll define a new type **Item** which will be a tuple of weight and value. To be mentioned that instead of using `newtype` I could use `type`. The reason behind not choosing `type` is that I don't want to tightly couple the implementation with the problem."
   ]
  },
  {
   "cell_type": "code",
   "execution_count": 377,
   "metadata": {},
   "outputs": [],
   "source": [
    "newtype Item = Item { rawItem::(Int,Int) } deriving (Show,Eq)"
   ]
  },
  {
   "cell_type": "markdown",
   "metadata": {},
   "source": [
    "Next step is to define a generic datatype for the possible solutions. For a simple problem like knapsack the solution can be a list of binary values."
   ]
  },
  {
   "cell_type": "code",
   "execution_count": 378,
   "metadata": {},
   "outputs": [],
   "source": [
    "newtype Solution = Solution { rawSolution::([Int],Int)} deriving (Show,Eq)"
   ]
  },
  {
   "cell_type": "markdown",
   "metadata": {},
   "source": [
    "Normally, the next step should be to define a fitness function but that would make the implementation tightly coupled with the problem that solves. For example, if the implementation is needed to solve the knapsack problem, one of the parameters needed to be passed to the fitness function should be the dataset. Instead, a new type for dataset will be defined. \n",
    "\n",
    "For knapsack problem, dataset can be a list of tuples `(g,v)` where $g$ is the weight of the $n^{th}$ object and $v$ is the value of the object."
   ]
  },
  {
   "cell_type": "code",
   "execution_count": 379,
   "metadata": {},
   "outputs": [],
   "source": [
    "newtype Dataset = Dataset { rawDataset::(Int,[Item])} deriving (Show,Eq)"
   ]
  },
  {
   "cell_type": "markdown",
   "metadata": {},
   "source": [
    "Now a generic fitness function can be defined:"
   ]
  },
  {
   "cell_type": "code",
   "execution_count": 380,
   "metadata": {},
   "outputs": [],
   "source": [
    "fitness::Dataset -> Solution -> Int\n",
    "fitness dataset solution = fitnessValue\n",
    "    where\n",
    "        datasetRaw = rawDataset dataset\n",
    "        maxWeight = fst datasetRaw\n",
    "        items = map rawItem (snd datasetRaw)\n",
    "        individual = fst $ rawSolution solution\n",
    "        pairs = zip individual items\n",
    "        weight = foldl (\\acc x-> if fst x==1 then acc+fst (snd x) else acc+0) 0 pairs\n",
    "        value = foldl (\\acc x-> if fst x==1 then acc+snd (snd x) else acc+0) 0 pairs\n",
    "        fitnessValue = if weight <= maxWeight then value else 0"
   ]
  },
  {
   "cell_type": "markdown",
   "metadata": {},
   "source": [
    "Ok, it's not a complicated function but there are a lot of operations that are performed on lists for calculating the fitness value. Step by step is:\n",
    "\n",
    "1. It accepts 2 parameters of types Dataset and Solution, respectively\n",
    "2. `datasetRaw = rawDataset dataset` -> get the tuple (G,[(g,v)]), where G is Maximum Weight, g is item's weight and v is item's value.\n",
    "3. `maxWeight = fst datasetRaw` -> get the maximum weight from the tuple\n",
    "4. `items = map rawItem (snd datasetRaw)` -> get the list [(g,v)]\n",
    "5. `individual = fst $ rawSolution solution` -> extract the individual configuration from solution\n",
    "6. `pairs = zip individual items` -> create pairs of type [(is_item,(g,v))]\n",
    "7. `weight = foldl (\\acc x-> if fst x==1 then acc+fst (snd x) else acc+0) 0 pairs` -> extract total weight for solution\n",
    "8. `value = foldl (\\acc x-> if fst x==1 then acc+snd (snd x) else acc+0) 0 pairs` -> extract total value for solution\n",
    "9. `fitnessValue = if weight <= maxWeight then value else 0`"
   ]
  },
  {
   "cell_type": "markdown",
   "metadata": {},
   "source": [
    "Before implementing the function that will calculate the best neighbor in neighborhood, I will need some \"helper functions\".\n",
    "\n",
    "1. `replaceNth` is used to replace the value of $n^{th}$ element in a list with a new value.\n",
    "2. `maximum'` is a function that will get the maximum element from a list of tuples.\n",
    "3. `calculateNeighborhood` is used to calculate the neighborhood of a solution."
   ]
  },
  {
   "cell_type": "code",
   "execution_count": 381,
   "metadata": {},
   "outputs": [],
   "source": [
    "replaceNth::Int -> Int->[Int]->[Int]\n",
    "replaceNth _ _ [] = []\n",
    "replaceNth index newVal (x:xs)\n",
    "    | index==0 = newVal:xs\n",
    "    | otherwise = x:replaceNth (index-1) newVal xs"
   ]
  },
  {
   "cell_type": "code",
   "execution_count": 382,
   "metadata": {},
   "outputs": [],
   "source": [
    "maximum'::[([Int],Int)]->([Int],Int)\n",
    "maximum' [] = error \"empty list\"\n",
    "maximum' (x:xs) = maxTail x xs\n",
    "    where maxTail currentMax [] = currentMax\n",
    "          maxTail (m,n) (p:ps)\n",
    "              | n<(snd p) = maxTail p ps\n",
    "              | otherwise = maxTail (m,n) ps"
   ]
  },
  {
   "cell_type": "code",
   "execution_count": 383,
   "metadata": {},
   "outputs": [],
   "source": [
    "calculateNeighborhood::(Dataset->Solution->Int)->Dataset->Solution->Int->[([Int],Int)]->[([Int],Int)]\n",
    "calculateNeighborhood _ _ _ 0 neighbors = neighbors\n",
    "calculateNeighborhood f dataset solution len neighbors = calculateNeighborhood f dataset solution (len-1) (neighbor:neighbors)\n",
    "    where\n",
    "        raw = fst $ rawSolution solution\n",
    "        newNeighbor = if raw !! (len-1) == 1 then replaceNth (len-1) 0 raw else replaceNth (len-1) 1 raw\n",
    "        fitnessValue = f dataset (Solution (newNeighbor,0))\n",
    "        neighbor = (newNeighbor,fitnessValue)"
   ]
  },
  {
   "cell_type": "markdown",
   "metadata": {},
   "source": [
    "Now the implementation of the function that will calculate the neighborhood can be done. The function will receive as parameters a fitness function, the dataset, current solution and will return a new solution. In other words, the function's type will be `getNewNeighbor::(Dataset->Solution->Int)->Dataset->Solution->Solution`"
   ]
  },
  {
   "cell_type": "code",
   "execution_count": 384,
   "metadata": {},
   "outputs": [],
   "source": [
    "getNewNeighbor::(Dataset->Solution->Int)->Dataset->Solution->Solution\n",
    "getNewNeighbor f dataset solution = result \n",
    "    where\n",
    "        rawList = fst $ rawSolution solution\n",
    "        neighbors = calculateNeighborhood f dataset solution (length rawList) []\n",
    "        result = Solution (maximum' neighbors)\n",
    "        "
   ]
  },
  {
   "cell_type": "markdown",
   "metadata": {},
   "source": [
    "Now, since the the `getNewNeighbor` and `fitness` functions are implemented, I can define the neighborhood search function."
   ]
  },
  {
   "cell_type": "code",
   "execution_count": 385,
   "metadata": {},
   "outputs": [],
   "source": [
    "kn::Dataset->Solution->Int->Solution\n",
    "kn dataset solution numberOfItems\n",
    "        | snd (rawSolution newSolution) > snd (rawSolution solution) = kn dataset newSolution numberOfItems\n",
    "        | otherwise = solution\n",
    "        where newSolution = getNewNeighbor fitness dataset solution"
   ]
  },
  {
   "cell_type": "markdown",
   "metadata": {},
   "source": [
    "### Example"
   ]
  },
  {
   "cell_type": "markdown",
   "metadata": {},
   "source": [
    "Let's consider a backpack with a maximum capacity of 10 kilograms. There are 4 items with the following characteristics:\n",
    "1. Item $I_1$ having 6 kg and a value of 50 $\\$$\n",
    "2. Item $I_2$ having 5 kg and a value of 90 $\\$$\n",
    "3. Item $I_3$ having 2 kg and a value of 20 $\\$$\n",
    "4. Item $I_4$ having 4 kg and a value of 30 $\\$$\n"
   ]
  },
  {
   "cell_type": "code",
   "execution_count": 394,
   "metadata": {},
   "outputs": [],
   "source": [
    "dataset=Dataset (10,[Item (6,50), Item (5,90),Item (2,20),Item (4,30)])"
   ]
  },
  {
   "cell_type": "code",
   "execution_count": 395,
   "metadata": {},
   "outputs": [],
   "source": [
    "randomValues = Solution (getRandomValueUnsafe 4 0 1,0)"
   ]
  },
  {
   "cell_type": "code",
   "execution_count": 396,
   "metadata": {},
   "outputs": [
    {
     "data": {
      "text/plain": [
       "Solution {rawSolution = ([0,1,0,0],0)}"
      ]
     },
     "metadata": {},
     "output_type": "display_data"
    }
   ],
   "source": [
    "randomValues"
   ]
  },
  {
   "cell_type": "code",
   "execution_count": 397,
   "metadata": {},
   "outputs": [],
   "source": [
    "fitnessInitial = fitness dataset randomValues\n",
    "initialSolution = Solution (fst $ rawSolution randomValues,fitnessInitial)"
   ]
  },
  {
   "cell_type": "code",
   "execution_count": 398,
   "metadata": {},
   "outputs": [
    {
     "data": {
      "text/plain": [
       "Solution {rawSolution = ([0,1,0,0],90)}"
      ]
     },
     "metadata": {},
     "output_type": "display_data"
    }
   ],
   "source": [
    "initialSolution"
   ]
  },
  {
   "cell_type": "code",
   "execution_count": 399,
   "metadata": {},
   "outputs": [
    {
     "data": {
      "text/plain": [
       "Solution {rawSolution = ([0,1,0,1],120)}"
      ]
     },
     "metadata": {},
     "output_type": "display_data"
    }
   ],
   "source": [
    "kn dataset initialSolution 4"
   ]
  }
 ],
 "metadata": {
  "kernelspec": {
   "display_name": "Haskell",
   "language": "haskell",
   "name": "haskell"
  },
  "language_info": {
   "codemirror_mode": "ihaskell",
   "file_extension": ".hs",
   "name": "haskell",
   "pygments_lexer": "Haskell",
   "version": "8.6.4"
  }
 },
 "nbformat": 4,
 "nbformat_minor": 2
}
