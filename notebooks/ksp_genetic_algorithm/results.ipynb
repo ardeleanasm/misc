{
 "cells": [
  {
   "cell_type": "markdown",
   "metadata": {},
   "source": [
    " # KSP Heuristic Algorithms Comparison"
   ]
  },
  {
   "cell_type": "code",
   "execution_count": 260,
   "metadata": {},
   "outputs": [],
   "source": [
    "%matplotlib inline"
   ]
  },
  {
   "cell_type": "code",
   "execution_count": 254,
   "metadata": {},
   "outputs": [],
   "source": [
    "import numpy as np\n",
    "import pickle\n",
    "import random as rn\n",
    "import copy\n",
    "import time\n",
    "import matplotlib.pyplot as plt\n",
    "from matplotlib.ticker import MaxNLocator\n",
    "from collections import namedtuple"
   ]
  },
  {
   "cell_type": "code",
   "execution_count": 216,
   "metadata": {},
   "outputs": [],
   "source": [
    "\"\"\"\n",
    "G = Maximum weight\n",
    "N = Number of items\n",
    "g = weights\n",
    "v = values\n",
    "\"\"\"\n",
    "DS=namedtuple('DS','G,N,g,v')"
   ]
  },
  {
   "cell_type": "code",
   "execution_count": 217,
   "metadata": {},
   "outputs": [],
   "source": [
    "def open_dataset(file):\n",
    "    pickle_in = open(file, \"rb\")\n",
    "    dataset = pickle.load(pickle_in)\n",
    "    pickle_in.close()\n",
    "    return dataset\n"
   ]
  },
  {
   "cell_type": "markdown",
   "metadata": {},
   "source": [
    " ## Backtracking method"
   ]
  },
  {
   "cell_type": "markdown",
   "metadata": {},
   "source": [
    " ### Algorithm"
   ]
  },
  {
   "cell_type": "code",
   "execution_count": 218,
   "metadata": {},
   "outputs": [],
   "source": [
    "def knapsack(max_weight, weights, values, number_of_items):\n",
    "    # Base Case\n",
    "    if number_of_items == 0 or max_weight == 0:\n",
    "        return 0\n",
    "\n",
    "    # If weight of the nth item is more than Knapsack of capacity\n",
    "    # W, then this item cannot be included in the optimal solution\n",
    "    if (weights[number_of_items - 1] > max_weight):\n",
    "        return knapsack(max_weight, weights, values, number_of_items - 1)\n",
    "    else:\n",
    "    # return the maximum of two cases:\n",
    "    # (1) nth item included\n",
    "    # (2) not included\n",
    "        return max(values[number_of_items - 1] + knapsack(max_weight - weights[number_of_items - 1], weights, values, number_of_items - 1),\n",
    "                   knapsack(max_weight, weights, values, number_of_items - 1))\n"
   ]
  },
  {
   "cell_type": "markdown",
   "metadata": {},
   "source": [
    " ### Plots & Measurements"
   ]
  },
  {
   "cell_type": "markdown",
   "metadata": {},
   "source": [
    " #### Measure Tb8"
   ]
  },
  {
   "cell_type": "code",
   "execution_count": 219,
   "metadata": {},
   "outputs": [],
   "source": [
    "dataset = open_dataset(\"dataset_ds8.pickle\")\n"
   ]
  },
  {
   "cell_type": "code",
   "execution_count": 220,
   "metadata": {},
   "outputs": [],
   "source": [
    "tb8=time.process_time_ns()\n",
    "knapsack(dataset.G , dataset.g , dataset.v , dataset.N)\n",
    "tb8=time.process_time_ns() - tb8\n"
   ]
  },
  {
   "cell_type": "code",
   "execution_count": 221,
   "metadata": {},
   "outputs": [],
   "source": [
    "dataset = open_dataset(\"dataset_ds10.pickle\")"
   ]
  },
  {
   "cell_type": "code",
   "execution_count": 222,
   "metadata": {},
   "outputs": [],
   "source": [
    "tb10=time.process_time_ns()\n",
    "knapsack(dataset.G , dataset.g , dataset.v , dataset.N)\n",
    "tb10 = time.process_time_ns() - tb10"
   ]
  },
  {
   "cell_type": "code",
   "execution_count": 224,
   "metadata": {},
   "outputs": [
    {
     "name": "stdout",
     "output_type": "stream",
     "text": [
      "Cpu Time \n",
      "\tTb8:\t1013538\t[ns] \n",
      "\tTb10:\t3516280\t[ns]\n",
      "3.469312448077921\n"
     ]
    }
   ],
   "source": [
    "print(\"Cpu Time \\n\\tTb8:\\t{0}\\t[ns] \\n\\tTb10:\\t{1}\\t[ns]\".format(tb8,tb10))\n",
    "print(tb10/tb8)"
   ]
  },
  {
   "cell_type": "markdown",
   "metadata": {},
   "source": [
    "10/8 = 1.25\n",
    "\n",
    "Considering that the second dataset, DS10, is 1.25 bigger than the first, DS8, and the fraction TB10/TB8 = 2.46 we can observe that backtracking is not feasible on bigger datasets. It took 2.46 times more CPU time to find the optimum solution for DS10 than for DS8.\n",
    "\n",
    "**Conclusion**: Considering that an increase in seach space by 1.25 times ( added 2 more elements) led to a increase by 2.46 times CPU time it can be concluded that backtracking algorithms are not feasible for datasets consisting of tens, hundreds, thousands of elements."
   ]
  },
  {
   "cell_type": "markdown",
   "metadata": {},
   "source": [
    " ## Neighborhood Search Algorithm"
   ]
  },
  {
   "cell_type": "markdown",
   "metadata": {},
   "source": [
    " ### Algorithm"
   ]
  },
  {
   "cell_type": "code",
   "execution_count": 86,
   "metadata": {},
   "outputs": [],
   "source": [
    "def generate_solution():\n",
    "    return [np.random.randint(2) for x in range(0,dataset.N)]"
   ]
  },
  {
   "cell_type": "code",
   "execution_count": 87,
   "metadata": {},
   "outputs": [],
   "source": [
    "def cost_function(solution):\n",
    "    total_value = 0\n",
    "    total_weight = 0\n",
    "    for i in range(0,len(solution)):\n",
    "        if solution[i] == 1:\n",
    "            total_value += dataset.v[i]\n",
    "            total_weight += dataset.g[i]\n",
    "    if total_weight > dataset.G:\n",
    "        return 0\n",
    "    else:\n",
    "        return total_value\n"
   ]
  },
  {
   "cell_type": "code",
   "execution_count": 88,
   "metadata": {},
   "outputs": [],
   "source": [
    "def ns_compute_neighborhood(S):\n",
    "    '''\n",
    "    Since the neighborhood of a solution S is made of all  the solutions \n",
    "    that that can be obtaine by using only one simple transformation,\n",
    "    I chose that the simple transformation to be a bit flip\n",
    "    in current solution S. This means that a value of 1 in solution array represent\n",
    "    an object that is in the knapsack while a value of 0 represents a missing object.\n",
    "    '''\n",
    "    solutions=list()\n",
    "    for i in range(0,len(S)):\n",
    "        new_solution=list(S)\n",
    "        if S[i] == 0:\n",
    "            new_solution[i] = 1\n",
    "        else:\n",
    "            new_solution[i] = 0\n",
    "        value = cost_function(new_solution)\n",
    "        solutions.append((new_solution,value))\n",
    "    best_solution=max(solutions,key=lambda item:item[1])\n",
    "    return best_solution[0],best_solution[1]\n"
   ]
  },
  {
   "cell_type": "code",
   "execution_count": 140,
   "metadata": {},
   "outputs": [],
   "source": [
    "def ns():\n",
    "    S = generate_solution()\n",
    "    while True:\n",
    "        new_solution,new_cost=ns_compute_neighborhood(S)\n",
    "        old_cost = cost_function(S)\n",
    "        if new_cost > old_cost:\n",
    "            S = new_solution\n",
    "        else:\n",
    "            break\n",
    "    return (S,cost_function(S))\n"
   ]
  },
  {
   "cell_type": "markdown",
   "metadata": {},
   "source": [
    " ### Plots & Measurements"
   ]
  },
  {
   "cell_type": "code",
   "execution_count": 137,
   "metadata": {},
   "outputs": [
    {
     "name": "stdout",
     "output_type": "stream",
     "text": [
      "Solution 288 found in 860060[ns]\n"
     ]
    }
   ],
   "source": [
    "dataset = open_dataset(\"dataset_ds8.pickle\")\n",
    "tns8=time.process_time_ns()\n",
    "S=ns()\n",
    "tns8=time.process_time_ns() - tns8\n",
    "print(\"Solution {0} found in {1}[ns]\".format(S[1],tns8))"
   ]
  },
  {
   "cell_type": "code",
   "execution_count": 135,
   "metadata": {},
   "outputs": [
    {
     "name": "stdout",
     "output_type": "stream",
     "text": [
      "Solution 305 found in 887888[ns]\n"
     ]
    }
   ],
   "source": [
    "dataset = open_dataset(\"dataset_ds10.pickle\")\n",
    "tns10=time.process_time_ns()\n",
    "S=ns()\n",
    "tns10=time.process_time_ns() - tns10\n",
    "print(\"Solution {0} found in {1}[ns]\".format(S[1],tns10))"
   ]
  },
  {
   "cell_type": "code",
   "execution_count": 141,
   "metadata": {},
   "outputs": [
    {
     "name": "stdout",
     "output_type": "stream",
     "text": [
      "Solution 0 found in 2004049[ns]\n"
     ]
    }
   ],
   "source": [
    "dataset = open_dataset(\"dataset_ds50.pickle\")\n",
    "tns50=time.process_time_ns()\n",
    "S=ns()\n",
    "tns50=time.process_time_ns() - tns50\n",
    "print(\"Solution {0} found in {1}[ns]\".format(S[1],tns50))"
   ]
  },
  {
   "cell_type": "code",
   "execution_count": 142,
   "metadata": {},
   "outputs": [
    {
     "name": "stdout",
     "output_type": "stream",
     "text": [
      "Solution 0 found in 5522799[ns]\n"
     ]
    }
   ],
   "source": [
    "dataset = open_dataset(\"dataset_ds100.pickle\")\n",
    "tns100=time.process_time_ns()\n",
    "S=ns()\n",
    "tns100=time.process_time_ns() - tns100\n",
    "print(\"Solution {0} found in {1}[ns]\".format(S[1],tns100))"
   ]
  },
  {
   "cell_type": "code",
   "execution_count": 143,
   "metadata": {},
   "outputs": [
    {
     "name": "stdout",
     "output_type": "stream",
     "text": [
      "Cpu Time \n",
      "\tTns8:\t860060\t[ns] \n",
      "\tTns10:\t887888\t[ns] \n",
      "\tTns50:\t2004049\t[ns] \n",
      "\tTns100:\t5522799\t[ns]\n",
      "Tns10/Tns8:\t1.0323558821477572\t[ns]\n",
      "Tb8/Tns8:\t1.645661930562984\t[ns]\n",
      "Tb10/Tns10:\t4.062544473641374\t[ns]\n"
     ]
    }
   ],
   "source": [
    "print(\n",
    "    \"Cpu Time \\n\\tTns8:\\t{0}\\t[ns] \\n\\tTns10:\\t{1}\\t[ns] \\n\\tTns50:\\t{2}\\t[ns] \\n\\tTns100:\\t{3}\\t[ns]\"\n",
    "    .format(tns8,tns10,tns50,tns100))\n",
    "print(\"Tns10/Tns8:\\t{0}\\t[ns]\".format((tns10/tns8)))\n",
    "print(\"Tb8/Tns8:\\t{0}\\t[ns]\".format((tb8/tns8)))\n",
    "print(\"Tb10/Tns10:\\t{0}\\t[ns]\".format((tb10/tns8)))"
   ]
  },
  {
   "cell_type": "markdown",
   "metadata": {},
   "source": [
    "By comparing the measured CPU time for Backtracking Solution and for Neightborhood Solution on datasets of 8 and 10 items we can observe that for both datasets we obtain better CPU time consumption for the second algorithm. Moreover, on slightly bigger datasets the Neighborhood Search has better CPU time consumption. On a dataset bigger by 1.25, the CPU time needed to find the solution is almost the same.\n",
    "\n",
    "**Conclusion**\n",
    "Neighborhood algorithm is fitted for searching solutions on bigger datasets, compared to backtracking. It can be seen from measurements that on bigger datasets, measured CPU time shows an performance improvement for Neighborhood algorithm. \n",
    "\n",
    "Still, the disadvantage of the algorithm is that in can easily report local maximums as solutions."
   ]
  },
  {
   "cell_type": "markdown",
   "metadata": {},
   "source": [
    "# Tabu Search Algorithm"
   ]
  },
  {
   "cell_type": "markdown",
   "metadata": {},
   "source": [
    "## Algorithm"
   ]
  },
  {
   "cell_type": "code",
   "execution_count": 144,
   "metadata": {},
   "outputs": [],
   "source": [
    "def ts_compute_neighborhood(S):\n",
    "    '''\n",
    "    Since the neighborhood of a solution S is made of all  the solutions \n",
    "    that that can be obtaine by using only one simple transformation,\n",
    "    I chose that the simple transformation to be a bit flip\n",
    "    in current solution S. This means that a value of 1 in solution array represent\n",
    "    an object that is in the knapsack while a value of 0 represents a missing object.\n",
    "    '''\n",
    "    solutions=list()\n",
    "    for i in range(0,len(S)):\n",
    "        new_solution=list(S)\n",
    "        if S[i] == 0:\n",
    "            new_solution[i] = 1\n",
    "        else:\n",
    "            new_solution[i] = 0\n",
    "        value = cost_function(new_solution)\n",
    "        solutions.append((new_solution,value))\n",
    "    #best_solution=max(solutions,key=lambda item:item[1])\n",
    "    #return best_solution[0],best_solution[1]\n",
    "    return solutions\n"
   ]
  },
  {
   "cell_type": "code",
   "execution_count": 145,
   "metadata": {},
   "outputs": [],
   "source": [
    "def ts(initial_solution):\n",
    "    S = initial_solution\n",
    "    S_best = (copy.deepcopy(S),cost_function(S))\n",
    "    TL = list()\n",
    "    TL.append(S_best)\n",
    "    bestCandidate = copy.deepcopy(S_best)\n",
    "    iteration = 0\n",
    "    while iteration < number_of_iterations:\n",
    "        # will obtain a list pairs <solution, value>\n",
    "        neighborhood = ts_compute_neighborhood(S_best[0])\n",
    "        for candidate in neighborhood:\n",
    "            if candidate not in TL and candidate[1] > bestCandidate[1]:\n",
    "                bestCandidate = copy.deepcopy(candidate)\n",
    "        if bestCandidate[1] > S_best[1]:\n",
    "            S_best = copy.deepcopy(bestCandidate)\n",
    "        TL.append(bestCandidate)\n",
    "        if len(TL) > tabu_tenure:\n",
    "            TL.pop(0)\n",
    "        iteration += 1\n",
    "    return S_best\n"
   ]
  },
  {
   "cell_type": "markdown",
   "metadata": {},
   "source": [
    "## Plots & Measurements"
   ]
  },
  {
   "cell_type": "code",
   "execution_count": 146,
   "metadata": {},
   "outputs": [],
   "source": [
    "Sts8=list()\n",
    "Sts10=list()\n",
    "Sts50=list()\n",
    "Sts100=list()"
   ]
  },
  {
   "cell_type": "markdown",
   "metadata": {},
   "source": [
    "#### Dataset 8 results"
   ]
  },
  {
   "cell_type": "code",
   "execution_count": 200,
   "metadata": {},
   "outputs": [
    {
     "name": "stdout",
     "output_type": "stream",
     "text": [
      "Solution 288 found in 133929240[ns]\n"
     ]
    }
   ],
   "source": [
    "tabu_tenure = 4\n",
    "number_of_iterations = 100\n",
    "dataset = open_dataset(\"dataset_ds8.pickle\")\n",
    "initial_solutions=[generate_solution() for x in range(0,10)]\n",
    "found_solutions=list()\n",
    "tts8_c1 = time.process_time_ns()\n",
    "for i in range(0,10):\n",
    "    solution=ts(initial_solutions[i])\n",
    "    found_solutions.append(solution[1])\n",
    "accepted_solution = max(found_solutions)\n",
    "tts8_c1 = time.process_time_ns() - tts8_c1\n",
    "print(\"Solution {0} found in {1}[ns]\".format(accepted_solution,tts8_c1))\n",
    "Sts8.append(accepted_solution)"
   ]
  },
  {
   "cell_type": "code",
   "execution_count": 201,
   "metadata": {},
   "outputs": [
    {
     "name": "stdout",
     "output_type": "stream",
     "text": [
      "Solution 288 found in 135798099[ns]\n"
     ]
    }
   ],
   "source": [
    "tabu_tenure = 2\n",
    "number_of_iterations = 100\n",
    "dataset = open_dataset(\"dataset_ds8.pickle\")\n",
    "initial_solutions=[generate_solution() for x in range(0,10)]\n",
    "found_solutions=list()\n",
    "tts8_c2 = time.process_time_ns()\n",
    "for i in range(0,10):\n",
    "    solution=ts(initial_solutions[i])\n",
    "    found_solutions.append(solution[1])\n",
    "accepted_solution = max(found_solutions)\n",
    "tts8_c2 = time.process_time_ns() - tts8_c2\n",
    "print(\"Solution {0} found in {1}[ns]\".format(accepted_solution,tts8_c2))\n",
    "Sts8.append(accepted_solution)"
   ]
  },
  {
   "cell_type": "code",
   "execution_count": 202,
   "metadata": {},
   "outputs": [
    {
     "name": "stdout",
     "output_type": "stream",
     "text": [
      "Solution 288 found in 133619554[ns]\n"
     ]
    }
   ],
   "source": [
    "tabu_tenure = 6\n",
    "number_of_iterations = 100\n",
    "dataset = open_dataset(\"dataset_ds8.pickle\")\n",
    "initial_solutions=[generate_solution() for x in range(0,10)]\n",
    "found_solutions=list()\n",
    "tts8_c3 = time.process_time_ns()\n",
    "for i in range(0,10):\n",
    "    solution=ts(initial_solutions[i])\n",
    "    found_solutions.append(solution[1])\n",
    "accepted_solution = max(found_solutions)\n",
    "tts8_c3 = time.process_time_ns() - tts8_c3\n",
    "print(\"Solution {0} found in {1}[ns]\".format(accepted_solution,tts8_c3))\n",
    "Sts8.append(accepted_solution)"
   ]
  },
  {
   "cell_type": "markdown",
   "metadata": {},
   "source": [
    "#### Dataset 10 results"
   ]
  },
  {
   "cell_type": "code",
   "execution_count": 204,
   "metadata": {},
   "outputs": [
    {
     "name": "stdout",
     "output_type": "stream",
     "text": [
      "Solution 281 found in 427776993[ns]\n"
     ]
    }
   ],
   "source": [
    "tabu_tenure = 5\n",
    "number_of_iterations = 250\n",
    "dataset = open_dataset(\"dataset_ds10.pickle\")\n",
    "initial_solutions=[generate_solution() for x in range(0,10)]\n",
    "found_solutions=list()\n",
    "tts10_c1 = time.process_time_ns()\n",
    "for i in range(0,10):\n",
    "    solution=ts(initial_solutions[i])\n",
    "    found_solutions.append(solution[1])\n",
    "accepted_solution = max(found_solutions)\n",
    "tts10_c1 = time.process_time_ns() - tts10_c1\n",
    "print(\"Solution {0} found in {1}[ns]\".format(accepted_solution,tts10_c1))\n",
    "Sts10.append(accepted_solution)"
   ]
  },
  {
   "cell_type": "code",
   "execution_count": 205,
   "metadata": {},
   "outputs": [
    {
     "name": "stdout",
     "output_type": "stream",
     "text": [
      "Solution 305 found in 423576617[ns]\n"
     ]
    }
   ],
   "source": [
    "tabu_tenure = 3\n",
    "number_of_iterations = 250\n",
    "dataset = open_dataset(\"dataset_ds10.pickle\")\n",
    "initial_solutions=[generate_solution() for x in range(0,10)]\n",
    "found_solutions=list()\n",
    "tts10_c2 = time.process_time_ns()\n",
    "for i in range(0,10):\n",
    "    solution=ts(initial_solutions[i])\n",
    "    found_solutions.append(solution[1])\n",
    "accepted_solution = max(found_solutions)\n",
    "tts10_c2 = time.process_time_ns() - tts10_c2\n",
    "print(\"Solution {0} found in {1}[ns]\".format(accepted_solution,tts10_c2))\n",
    "Sts10.append(accepted_solution)"
   ]
  },
  {
   "cell_type": "code",
   "execution_count": 206,
   "metadata": {},
   "outputs": [
    {
     "name": "stdout",
     "output_type": "stream",
     "text": [
      "Solution 305 found in 429707559[ns]\n"
     ]
    }
   ],
   "source": [
    "tabu_tenure = 7\n",
    "number_of_iterations = 250\n",
    "dataset = open_dataset(\"dataset_ds10.pickle\")\n",
    "initial_solutions=[generate_solution() for x in range(0,10)]\n",
    "found_solutions=list()\n",
    "tts10_c3 = time.process_time_ns()\n",
    "for i in range(0,10):\n",
    "    solution=ts(initial_solutions[i])\n",
    "    found_solutions.append(solution[1])\n",
    "accepted_solution = max(found_solutions)\n",
    "tts10_c3 = time.process_time_ns() - tts10_c3\n",
    "print(\"Solution {0} found in {1}[ns]\".format(accepted_solution,tts10_c3))\n",
    "Sts10.append(accepted_solution)"
   ]
  },
  {
   "cell_type": "markdown",
   "metadata": {},
   "source": [
    "#### Dataset 50 Results"
   ]
  },
  {
   "cell_type": "code",
   "execution_count": 207,
   "metadata": {},
   "outputs": [
    {
     "name": "stdout",
     "output_type": "stream",
     "text": [
      "Solution 0 found in 4723086370[ns]\n"
     ]
    }
   ],
   "source": [
    "tabu_tenure = 25\n",
    "number_of_iterations = 250\n",
    "dataset = open_dataset(\"dataset_ds50.pickle\")\n",
    "initial_solutions=[generate_solution() for x in range(0,10)]\n",
    "found_solutions=list()\n",
    "tts50_c1 = time.process_time_ns()\n",
    "for i in range(0,10):\n",
    "    solution=ts(initial_solutions[i])\n",
    "    found_solutions.append(solution[1])\n",
    "accepted_solution = max(found_solutions)\n",
    "tts50_c1 = time.process_time_ns() - tts50_c1\n",
    "print(\"Solution {0} found in {1}[ns]\".format(accepted_solution,tts50_c1))\n",
    "Sts50.append(accepted_solution)"
   ]
  },
  {
   "cell_type": "code",
   "execution_count": 208,
   "metadata": {},
   "outputs": [
    {
     "name": "stdout",
     "output_type": "stream",
     "text": [
      "Solution 0 found in 4529720952[ns]\n"
     ]
    }
   ],
   "source": [
    "tabu_tenure = 15\n",
    "number_of_iterations = 250\n",
    "dataset = open_dataset(\"dataset_ds50.pickle\")\n",
    "initial_solutions=[generate_solution() for x in range(0,10)]\n",
    "found_solutions=list()\n",
    "tts50_c2 = time.process_time_ns()\n",
    "for i in range(0,10):\n",
    "    solution=ts(initial_solutions[i])\n",
    "    found_solutions.append(solution[1])\n",
    "accepted_solution = max(found_solutions)\n",
    "tts50_c2 = time.process_time_ns() - tts50_c2\n",
    "print(\"Solution {0} found in {1}[ns]\".format(accepted_solution,tts50_c2))\n",
    "Sts50.append(accepted_solution)"
   ]
  },
  {
   "cell_type": "code",
   "execution_count": 209,
   "metadata": {},
   "outputs": [
    {
     "name": "stdout",
     "output_type": "stream",
     "text": [
      "Solution 0 found in 4931497187[ns]\n"
     ]
    }
   ],
   "source": [
    "tabu_tenure = 35\n",
    "number_of_iterations = 250\n",
    "dataset = open_dataset(\"dataset_ds50.pickle\")\n",
    "initial_solutions=[generate_solution() for x in range(0,10)]\n",
    "found_solutions=list()\n",
    "tts50_c3 = time.process_time_ns()\n",
    "for i in range(0,10):\n",
    "    solution=ts(initial_solutions[i])\n",
    "    found_solutions.append(solution[1])\n",
    "accepted_solution = max(found_solutions)\n",
    "tts50_c3 = time.process_time_ns() - tts50_c3\n",
    "print(\"Solution {0} found in {1}[ns]\".format(accepted_solution,tts50_c3))\n",
    "Sts50.append(accepted_solution)"
   ]
  },
  {
   "cell_type": "markdown",
   "metadata": {},
   "source": [
    "#### Dataset 100 Solutions"
   ]
  },
  {
   "cell_type": "code",
   "execution_count": 210,
   "metadata": {},
   "outputs": [
    {
     "name": "stdout",
     "output_type": "stream",
     "text": [
      "Solution 0 found in 16492252209[ns]\n"
     ]
    }
   ],
   "source": [
    "tabu_tenure = 50\n",
    "number_of_iterations = 250\n",
    "dataset = open_dataset(\"dataset_ds100.pickle\")\n",
    "initial_solutions=[generate_solution() for x in range(0,10)]\n",
    "found_solutions=list()\n",
    "tts100_c1 = time.process_time_ns()\n",
    "for i in range(0,10):\n",
    "    solution=ts(initial_solutions[i])\n",
    "    found_solutions.append(solution[1])\n",
    "accepted_solution = max(found_solutions)\n",
    "tts100_c1 = time.process_time_ns() - tts100_c1\n",
    "print(\"Solution {0} found in {1}[ns]\".format(accepted_solution,tts100_c1))\n",
    "Sts100.append(accepted_solution)"
   ]
  },
  {
   "cell_type": "code",
   "execution_count": 211,
   "metadata": {},
   "outputs": [
    {
     "name": "stdout",
     "output_type": "stream",
     "text": [
      "Solution 0 found in 15342806172[ns]\n"
     ]
    }
   ],
   "source": [
    "tabu_tenure = 25\n",
    "number_of_iterations = 250\n",
    "dataset = open_dataset(\"dataset_ds100.pickle\")\n",
    "initial_solutions=[generate_solution() for x in range(0,10)]\n",
    "found_solutions=list()\n",
    "tts100_c2 = time.process_time_ns()\n",
    "for i in range(0,10):\n",
    "    solution=ts(initial_solutions[i])\n",
    "    found_solutions.append(solution[1])\n",
    "accepted_solution = max(found_solutions)\n",
    "tts100_c2 = time.process_time_ns() - tts100_c2\n",
    "print(\"Solution {0} found in {1}[ns]\".format(accepted_solution,tts100_c2))\n",
    "Sts100.append(accepted_solution)"
   ]
  },
  {
   "cell_type": "code",
   "execution_count": 212,
   "metadata": {},
   "outputs": [
    {
     "name": "stdout",
     "output_type": "stream",
     "text": [
      "Solution 0 found in 18020002893[ns]\n"
     ]
    }
   ],
   "source": [
    "tabu_tenure = 75\n",
    "number_of_iterations = 250\n",
    "dataset = open_dataset(\"dataset_ds100.pickle\")\n",
    "initial_solutions=[generate_solution() for x in range(0,10)]\n",
    "found_solutions=list()\n",
    "tts100_c3 = time.process_time_ns()\n",
    "for i in range(0,10):\n",
    "    solution=ts(initial_solutions[i])\n",
    "    found_solutions.append(solution[1])\n",
    "accepted_solution = max(found_solutions)\n",
    "tts100_c3 = time.process_time_ns() - tts100_c3\n",
    "print(\"Solution {0} found in {1}[ns]\".format(accepted_solution,tts100_c3))\n",
    "Sts100.append(accepted_solution)"
   ]
  },
  {
   "cell_type": "markdown",
   "metadata": {},
   "source": [
    "# Genetic Algorithm"
   ]
  },
  {
   "cell_type": "markdown",
   "metadata": {},
   "source": [
    "### Algorithm\n"
   ]
  },
  {
   "cell_type": "code",
   "execution_count": 173,
   "metadata": {},
   "outputs": [],
   "source": [
    "def generate_individual():\n",
    "    return [np.random.randint(2) for x in range(0, dataset.N)]\n",
    "\n",
    "def generate_population(population_size):\n",
    "    return [generate_individual() for x in range(0,population_size)]\n"
   ]
  },
  {
   "cell_type": "code",
   "execution_count": 174,
   "metadata": {},
   "outputs": [],
   "source": [
    "def fitness(individual):\n",
    "    total_value=0\n",
    "    total_weight=0\n",
    "    for i in range(0,len(individual)):\n",
    "        if individual[i]==1:\n",
    "            total_value += dataset.v[i]\n",
    "            total_weight += dataset.g[i]\n",
    "    if total_weight > dataset.G:\n",
    "        return 0\n",
    "    else:\n",
    "        return total_value\n"
   ]
  },
  {
   "cell_type": "code",
   "execution_count": 175,
   "metadata": {},
   "outputs": [],
   "source": [
    "def crossover(first_individual,second_individual,gene_length):\n",
    "    new_individual = list()\n",
    "    for i in range(0,gene_length):\n",
    "        crossover_value= np.random.uniform()\n",
    "        if crossover_value < CROSSOVER_RATE:\n",
    "            new_individual.append(first_individual[i])\n",
    "        else:\n",
    "            new_individual.append(second_individual[i])\n",
    "    return new_individual\n"
   ]
  },
  {
   "cell_type": "code",
   "execution_count": 176,
   "metadata": {},
   "outputs": [],
   "source": [
    "def mutate(individual,gene_length):\n",
    "    for i in range(0,gene_length):\n",
    "        value=np.random.uniform()\n",
    "        if value < MUTATION_RATE:\n",
    "            gene = round(value)\n",
    "            individual[i]=gene\n",
    "    return individual\n"
   ]
  },
  {
   "cell_type": "code",
   "execution_count": 177,
   "metadata": {},
   "outputs": [],
   "source": [
    "def tournament_selection(population):\n",
    "    tournament_population=list()\n",
    "    for i in range (0,TOURNAMENT_SIZE):\n",
    "        random_index=np.random.randint(len(population)-1)\n",
    "        tournament_population.append(population[random_index])\n",
    "    #get fittest individual\n",
    "    tournament_population=sorted(tournament_population, key=lambda x: fitness(x),reverse=True)\n",
    "    return tournament_population[0]\n"
   ]
  },
  {
   "cell_type": "code",
   "execution_count": 178,
   "metadata": {},
   "outputs": [],
   "source": [
    "def evolve(population):\n",
    "    new_population = list()\n",
    "    elite_offset = 0\n",
    "    if np.random.uniform() < CLONING_RATE:\n",
    "        new_population.append(population[0])\n",
    "        elite_offset = 1\n",
    "    # Prepare for crossover\n",
    "    for i in range(elite_offset,len(population)):\n",
    "        first_individual = tournament_selection(population)\n",
    "        second_individual = tournament_selection(population)\n",
    "        new_individual= crossover(first_individual,second_individual,dataset.N)\n",
    "        new_population.append(new_individual)\n",
    "    #Mutate\n",
    "    for i in range(elite_offset,len(population)):\n",
    "        new_population[i]=mutate(new_population[i],dataset.N)\n",
    "    return new_population\n"
   ]
  },
  {
   "cell_type": "code",
   "execution_count": 179,
   "metadata": {},
   "outputs": [],
   "source": [
    "def ga():\n",
    "    #generate initial population\n",
    "    population = generate_population(POPULATION_SIZE)\n",
    "    for i in range(0,NUMBER_OF_GENERATIONS):\n",
    "        #print(\"Generation {0} with {1}\".format(i, len(population)))\n",
    "        #Sort Population\n",
    "        population = sorted(population, key=lambda x: fitness(x),reverse=True)\n",
    "        #Print Population\n",
    "        #for ind in population:\n",
    "        #    print(\"\\t {0} , fitness {1}\".format(str(ind),fitness(ind)))\n",
    "        population = evolve(population)\n",
    "    population = sorted(population, key=lambda x: fitness(x), reverse=True)\n",
    "    return fitness(population[0])\n",
    "    #print(\"Best generation with total value {0}\".format(fitness(population[0])))\n"
   ]
  },
  {
   "cell_type": "markdown",
   "metadata": {},
   "source": [
    "### Plots & Measurements\n"
   ]
  },
  {
   "cell_type": "code",
   "execution_count": 237,
   "metadata": {},
   "outputs": [],
   "source": [
    "GAS8=list()\n",
    "GAS10=list()\n",
    "GAS50=list()\n",
    "GAS100=list()"
   ]
  },
  {
   "cell_type": "markdown",
   "metadata": {},
   "source": [
    "#### Configuration 1"
   ]
  },
  {
   "cell_type": "code",
   "execution_count": 238,
   "metadata": {},
   "outputs": [],
   "source": [
    "NUMBER_OF_GENERATIONS = 50\n",
    "POPULATION_SIZE = 1000\n",
    "CLONING_RATE = 0.05\n",
    "CROSSOVER_RATE = 0.8\n",
    "MUTATION_RATE = 0.15\n",
    "TOURNAMENT_SIZE = 5"
   ]
  },
  {
   "cell_type": "code",
   "execution_count": 239,
   "metadata": {},
   "outputs": [
    {
     "name": "stdout",
     "output_type": "stream",
     "text": [
      "Solution 288 found in 11421099910[ns]\n"
     ]
    }
   ],
   "source": [
    "dataset = open_dataset(\"dataset_ds8.pickle\")\n",
    "tga8_c1=time.process_time_ns()\n",
    "S=ga()\n",
    "tga8_c1=time.process_time_ns() - tga8_c1\n",
    "print(\"Solution {0} found in {1}[ns]\".format(S,tga8_c1))\n",
    "GAS8.append(S)"
   ]
  },
  {
   "cell_type": "code",
   "execution_count": 240,
   "metadata": {},
   "outputs": [
    {
     "name": "stdout",
     "output_type": "stream",
     "text": [
      "Solution 305 found in 11864821076[ns]\n"
     ]
    }
   ],
   "source": [
    "dataset = open_dataset(\"dataset_ds10.pickle\")\n",
    "tga10_c1=time.process_time_ns()\n",
    "S=ga()\n",
    "tga10_c1=time.process_time_ns() - tga10_c1\n",
    "print(\"Solution {0} found in {1}[ns]\".format(S,tga10_c1))\n",
    "GAS10.append(S)"
   ]
  },
  {
   "cell_type": "code",
   "execution_count": 241,
   "metadata": {},
   "outputs": [
    {
     "name": "stdout",
     "output_type": "stream",
     "text": [
      "Solution 1086 found in 21274867338[ns]\n"
     ]
    }
   ],
   "source": [
    "dataset = open_dataset(\"dataset_ds50.pickle\")\n",
    "tga50_c1=time.process_time_ns()\n",
    "S=ga()\n",
    "tga50_c1=time.process_time_ns() - tga50_c1\n",
    "print(\"Solution {0} found in {1}[ns]\".format(S,tga50_c1))\n",
    "GAS50.append(S)"
   ]
  },
  {
   "cell_type": "code",
   "execution_count": 242,
   "metadata": {},
   "outputs": [
    {
     "name": "stdout",
     "output_type": "stream",
     "text": [
      "Solution 1681 found in 32371993995[ns]\n"
     ]
    }
   ],
   "source": [
    "dataset = open_dataset(\"dataset_ds100.pickle\")\n",
    "tga100_c1=time.process_time_ns()\n",
    "S=ga()\n",
    "tga100_c1=time.process_time_ns() - tga100_c1\n",
    "print(\"Solution {0} found in {1}[ns]\".format(S,tga100_c1))\n",
    "GAS100.append(S)"
   ]
  },
  {
   "cell_type": "markdown",
   "metadata": {},
   "source": [
    "#### Configuration 2"
   ]
  },
  {
   "cell_type": "code",
   "execution_count": 243,
   "metadata": {},
   "outputs": [],
   "source": [
    "NUMBER_OF_GENERATIONS = 1000\n",
    "POPULATION_SIZE = 50\n",
    "CLONING_RATE = 0.1\n",
    "CROSSOVER_RATE = 0.6\n",
    "MUTATION_RATE = 0.3\n",
    "TOURNAMENT_SIZE = 5"
   ]
  },
  {
   "cell_type": "code",
   "execution_count": 244,
   "metadata": {},
   "outputs": [
    {
     "name": "stdout",
     "output_type": "stream",
     "text": [
      "Solution 209 found in 10207837717[ns]\n"
     ]
    }
   ],
   "source": [
    "dataset = open_dataset(\"dataset_ds8.pickle\")\n",
    "tga8_c2=time.process_time_ns()\n",
    "S=ga()\n",
    "tga8_c2=time.process_time_ns() - tga8_c2\n",
    "print(\"Solution {0} found in {1}[ns]\".format(S,tga8_c2))\n",
    "GAS8.append(S)"
   ]
  },
  {
   "cell_type": "code",
   "execution_count": 245,
   "metadata": {},
   "outputs": [
    {
     "name": "stdout",
     "output_type": "stream",
     "text": [
      "Solution 204 found in 10690700033[ns]\n"
     ]
    }
   ],
   "source": [
    "dataset = open_dataset(\"dataset_ds10.pickle\")\n",
    "tga10_c2=time.process_time_ns()\n",
    "S=ga()\n",
    "tga10_c2=time.process_time_ns() - tga10_c2\n",
    "print(\"Solution {0} found in {1}[ns]\".format(S,tga10_c2))\n",
    "GAS10.append(S)"
   ]
  },
  {
   "cell_type": "code",
   "execution_count": 246,
   "metadata": {},
   "outputs": [
    {
     "name": "stdout",
     "output_type": "stream",
     "text": [
      "Solution 256 found in 17133198346[ns]\n"
     ]
    }
   ],
   "source": [
    "dataset = open_dataset(\"dataset_ds50.pickle\")\n",
    "tga50_c2=time.process_time_ns()\n",
    "S=ga()\n",
    "tga50_c2=time.process_time_ns() - tga50_c2\n",
    "print(\"Solution {0} found in {1}[ns]\".format(S,tga50_c2))\n",
    "GAS50.append(S)"
   ]
  },
  {
   "cell_type": "code",
   "execution_count": 247,
   "metadata": {},
   "outputs": [
    {
     "name": "stdout",
     "output_type": "stream",
     "text": [
      "Solution 257 found in 25197287432[ns]\n"
     ]
    }
   ],
   "source": [
    "dataset = open_dataset(\"dataset_ds100.pickle\")\n",
    "tga100_c2=time.process_time_ns()\n",
    "S=ga()\n",
    "tga100_c2=time.process_time_ns() - tga100_c2\n",
    "print(\"Solution {0} found in {1}[ns]\".format(S,tga100_c2))\n",
    "GAS100.append(S)"
   ]
  },
  {
   "cell_type": "markdown",
   "metadata": {},
   "source": [
    "#### Configuration 3"
   ]
  },
  {
   "cell_type": "code",
   "execution_count": 248,
   "metadata": {},
   "outputs": [],
   "source": [
    "NUMBER_OF_GENERATIONS = 150\n",
    "POPULATION_SIZE = 1000\n",
    "CLONING_RATE = 0.02\n",
    "CROSSOVER_RATE = 0.75\n",
    "MUTATION_RATE = 0.23\n",
    "TOURNAMENT_SIZE = 5"
   ]
  },
  {
   "cell_type": "code",
   "execution_count": 249,
   "metadata": {},
   "outputs": [
    {
     "name": "stdout",
     "output_type": "stream",
     "text": [
      "Solution 288 found in 33780081479[ns]\n"
     ]
    }
   ],
   "source": [
    "dataset = open_dataset(\"dataset_ds8.pickle\")\n",
    "tga8_c3=time.process_time_ns()\n",
    "S=ga()\n",
    "tga8_c3=time.process_time_ns() - tga8_c3\n",
    "print(\"Solution {0} found in {1}[ns]\".format(S,tga8_c3))\n",
    "GAS8.append(S)"
   ]
  },
  {
   "cell_type": "code",
   "execution_count": 250,
   "metadata": {},
   "outputs": [
    {
     "name": "stdout",
     "output_type": "stream",
     "text": [
      "Solution 305 found in 35080996880[ns]\n"
     ]
    }
   ],
   "source": [
    "dataset = open_dataset(\"dataset_ds10.pickle\")\n",
    "tga10_c3=time.process_time_ns()\n",
    "S=ga()\n",
    "tga10_c3=time.process_time_ns() - tga10_c3\n",
    "print(\"Solution {0} found in {1}[ns]\".format(S,tga10_c3))\n",
    "GAS10.append(S)"
   ]
  },
  {
   "cell_type": "code",
   "execution_count": 251,
   "metadata": {},
   "outputs": [
    {
     "name": "stdout",
     "output_type": "stream",
     "text": [
      "Solution 870 found in 59016475810[ns]\n"
     ]
    }
   ],
   "source": [
    "dataset = open_dataset(\"dataset_ds50.pickle\")\n",
    "tga50_c3=time.process_time_ns()\n",
    "S=ga()\n",
    "tga50_c3=time.process_time_ns() - tga50_c3\n",
    "print(\"Solution {0} found in {1}[ns]\".format(S,tga50_c3))\n",
    "GAS50.append(S)"
   ]
  },
  {
   "cell_type": "code",
   "execution_count": 252,
   "metadata": {},
   "outputs": [
    {
     "name": "stdout",
     "output_type": "stream",
     "text": [
      "Solution 1290 found in 86849431654[ns]\n"
     ]
    }
   ],
   "source": [
    "dataset = open_dataset(\"dataset_ds100.pickle\")\n",
    "tga100_c3=time.process_time_ns()\n",
    "S=ga()\n",
    "tga100_c3=time.process_time_ns() - tga100_c3\n",
    "print(\"Solution {0} found in {1}[ns]\".format(S,tga100_c3))\n",
    "GAS100.append(S)"
   ]
  },
  {
   "cell_type": "markdown",
   "metadata": {},
   "source": [
    "# General Opinions"
   ]
  },
  {
   "cell_type": "markdown",
   "metadata": {},
   "source": [
    "10. Compare S[] GA-i with S[] TS-i and both of them with SNS-i and SB-i (for i = 8, 10, 50 and 100).\n",
    "\n",
    "\n",
    "From measurement it resulted that GA algorithm obtained the best solutions for the problem. Compared to TS, GA's results were more closer to the problem's solution. TS seemed to be stuck, at least on bigger datasets in local maximums or it failed to find the correct solution. \n",
    "\n",
    "In term of results, a comparison between GA or TS and NS or B, the measurement shows that the results obtained after running GA and TS were better on bigger datasets although on small datasets they didn't perform well from the point of view of CPU time.\n"
   ]
  },
  {
   "cell_type": "markdown",
   "metadata": {},
   "source": [
    "# GA vs TS vs B on small Datasets"
   ]
  },
  {
   "cell_type": "code",
   "execution_count": 213,
   "metadata": {},
   "outputs": [
    {
     "name": "stdout",
     "output_type": "stream",
     "text": [
      "Tga10_c1/Tga8_c1:\t 11735988628/11405317045=1.0289927567725936\n",
      "Tga10_c2/Tga8_c2:\t 10798685449/10452285206=1.0331411013164042\n",
      "Tga10_c3/Tga8_c3:\t 35318772359/34019192508=1.0382013726720407\n"
     ]
    }
   ],
   "source": [
    "print(\"Tga10_c1/Tga8_c1:\\t {0}/{1}={2}\".format(tga10_c1,tga8_c1,(tga10_c1/tga8_c1)))\n",
    "print(\"Tga10_c2/Tga8_c2:\\t {0}/{1}={2}\".format(tga10_c2,tga8_c2,(tga10_c2/tga8_c2)))\n",
    "print(\"Tga10_c3/Tga8_c3:\\t {0}/{1}={2}\".format(tga10_c3,tga8_c3,(tga10_c3/tga8_c3)))"
   ]
  },
  {
   "cell_type": "markdown",
   "metadata": {},
   "source": [
    "By comparing the CPU time values obtained after measuring all GA with 3 possible configurations performing on dataset 8 and dataset 10 we can observe that the performance is almost the same.\n",
    "\n",
    "Considering that in the case of backtracking algorithm, for a datasize bigger by 1.25 times the degradation of performance was more than double."
   ]
  },
  {
   "cell_type": "code",
   "execution_count": 214,
   "metadata": {},
   "outputs": [
    {
     "name": "stdout",
     "output_type": "stream",
     "text": [
      "Tts10_c1/Tts8_c1:\t 427776993/133929240=3.1940522696910696\n",
      "Tts10_c2/Tts8_c2:\t 423576617/135798099=3.119164554726204\n",
      "Tts10_c3/Tts8_c3:\t 429707559/133619554=3.2159032576923585\n"
     ]
    }
   ],
   "source": [
    "print(\"Tts10_c1/Tts8_c1:\\t {0}/{1}={2}\".format(tts10_c1,tts8_c1,(tts10_c1/tts8_c1)))\n",
    "print(\"Tts10_c2/Tts8_c2:\\t {0}/{1}={2}\".format(tts10_c2,tts8_c2,(tts10_c2/tts8_c2)))\n",
    "print(\"Tts10_c3/Tts8_c3:\\t {0}/{1}={2}\".format(tts10_c3,tts8_c3,(tts10_c3/tts8_c3)))"
   ]
  },
  {
   "cell_type": "markdown",
   "metadata": {},
   "source": [
    "From the obtained measured values it can be observed that by increasing the dataset size\n",
    "the performance dropped 3 times. Furthermore, it can be observed that on small datasets, the performance degradation of TS algorithm is comparable with the one obtained for Backtracking."
   ]
  },
  {
   "cell_type": "code",
   "execution_count": 225,
   "metadata": {},
   "outputs": [
    {
     "name": "stdout",
     "output_type": "stream",
     "text": [
      "Tb8/Tga8_c1:\t 1013538/11405317045=8.886539462261831e-05\n",
      "Tb8/Tga8_c2:\t 1013538/10452285206=9.696807731750293e-05\n",
      "Tb8/Tga8_c3:\t 1013538/34019192508=2.979312338944127e-05\n"
     ]
    }
   ],
   "source": [
    "print(\"Tb8/Tga8_c1:\\t {0}/{1}={2}\".format(tb8,tga8_c1,(tb8/tga8_c1)))\n",
    "print(\"Tb8/Tga8_c2:\\t {0}/{1}={2}\".format(tb8,tga8_c2,(tb8/tga8_c2)))\n",
    "print(\"Tb8/Tga8_c3:\\t {0}/{1}={2}\".format(tb8,tga8_c3,(tb8/tga8_c3)))"
   ]
  },
  {
   "cell_type": "code",
   "execution_count": 226,
   "metadata": {},
   "outputs": [
    {
     "name": "stdout",
     "output_type": "stream",
     "text": [
      "Tb10/Tga10_c1:\t 3516280/11735988628=0.0002996151505814155\n",
      "Tb10/Tga10_c2:\t 3516280/10798685449=0.00032562111532988687\n",
      "Tb10/Tga10_c3:\t 3516280/35318772359=9.955838680513974e-05\n"
     ]
    }
   ],
   "source": [
    "print(\"Tb10/Tga10_c1:\\t {0}/{1}={2}\".format(tb10,tga10_c1,(tb10/tga10_c1)))\n",
    "print(\"Tb10/Tga10_c2:\\t {0}/{1}={2}\".format(tb10,tga10_c2,(tb10/tga10_c2)))\n",
    "print(\"Tb10/Tga10_c3:\\t {0}/{1}={2}\".format(tb10,tga10_c3,(tb10/tga10_c3)))"
   ]
  },
  {
   "cell_type": "markdown",
   "metadata": {},
   "source": [
    "Although GA is a great algorithm that can be applied on bigger datasets, it can be observed from measurements that, compared with backtracking, on small datasets is not feasible."
   ]
  },
  {
   "cell_type": "code",
   "execution_count": 227,
   "metadata": {},
   "outputs": [
    {
     "name": "stdout",
     "output_type": "stream",
     "text": [
      "Tb8/Tts8_c1:\t 1013538/133929240=0.007567712621978591\n",
      "Tb8/Tts8_c2:\t 1013538/135798099=0.00746356545094199\n",
      "Tb8/Tts8_c3:\t 1013538/133619554=0.007585252080694716\n"
     ]
    }
   ],
   "source": [
    "print(\"Tb8/Tts8_c1:\\t {0}/{1}={2}\".format(tb8,tts8_c1,(tb8/tts8_c1)))\n",
    "print(\"Tb8/Tts8_c2:\\t {0}/{1}={2}\".format(tb8,tts8_c2,(tb8/tts8_c2)))\n",
    "print(\"Tb8/Tts8_c3:\\t {0}/{1}={2}\".format(tb8,tts8_c3,(tb8/tts8_c3)))"
   ]
  },
  {
   "cell_type": "code",
   "execution_count": 228,
   "metadata": {},
   "outputs": [
    {
     "name": "stdout",
     "output_type": "stream",
     "text": [
      "Tb10/Tts10_c1:\t 3516280/427776993=0.008219890404437904\n",
      "Tb10/Tts10_c2:\t 3516280/423576617=0.008301402529970156\n",
      "Tb10/Tts10_c3:\t 3516280/429707559=0.008182960542241706\n"
     ]
    }
   ],
   "source": [
    "print(\"Tb10/Tts10_c1:\\t {0}/{1}={2}\".format(tb10,tts10_c1,(tb10/tts10_c1)))\n",
    "print(\"Tb10/Tts10_c2:\\t {0}/{1}={2}\".format(tb10,tts10_c2,(tb10/tts10_c2)))\n",
    "print(\"Tb10/Tts10_c3:\\t {0}/{1}={2}\".format(tb10,tts10_c3,(tb10/tts10_c3)))"
   ]
  },
  {
   "cell_type": "markdown",
   "metadata": {},
   "source": [
    "It can be seen that on small datasets, compared with backtracking, TS is not a feasible algorithm."
   ]
  },
  {
   "cell_type": "markdown",
   "metadata": {},
   "source": [
    "# GA vs NS vs TS on bigger datasets"
   ]
  },
  {
   "cell_type": "code",
   "execution_count": 230,
   "metadata": {},
   "outputs": [
    {
     "name": "stdout",
     "output_type": "stream",
     "text": [
      "Tga50_c1/tns50:\t 21242617744/2004049=10599.84947673435\n",
      "Tga50_c2/tns50:\t 17812072853/2004049=8888.042584288109\n",
      "Tga50_c3/tns50:\t 58750305317/2004049=29315.802815699615\n"
     ]
    }
   ],
   "source": [
    "print(\"Tga50_c1/tns50:\\t {0}/{1}={2}\".format(tga50_c1,tns50,(tga50_c1/tns50)))\n",
    "print(\"Tga50_c2/tns50:\\t {0}/{1}={2}\".format(tga50_c2,tns50,(tga50_c2/tns50)))\n",
    "print(\"Tga50_c3/tns50:\\t {0}/{1}={2}\".format(tga50_c3,tns50,(tga50_c3/tns50)))"
   ]
  },
  {
   "cell_type": "code",
   "execution_count": 231,
   "metadata": {},
   "outputs": [
    {
     "name": "stdout",
     "output_type": "stream",
     "text": [
      "Tga100_c1/tns100:\t 32917133007/5522799=5960.226509601382\n",
      "Tga100_c2/tns100:\t 26302340789/5522799=4762.501910534857\n",
      "Tga100_c3/tns100:\t 84904569232/5522799=15373.467191545446\n"
     ]
    }
   ],
   "source": [
    "print(\"Tga100_c1/tns100:\\t {0}/{1}={2}\".format(tga100_c1,tns100,(tga100_c1/tns100)))\n",
    "print(\"Tga100_c2/tns100:\\t {0}/{1}={2}\".format(tga100_c2,tns100,(tga100_c2/tns100)))\n",
    "print(\"Tga100_c3/tns100:\\t {0}/{1}={2}\".format(tga100_c3,tns100,(tga100_c3/tns100)))"
   ]
  },
  {
   "cell_type": "markdown",
   "metadata": {},
   "source": [
    "Compared with Neighborhood search, Genetic algorithm performed worse, in terms of CPU time, on big datasets but the results obtained were optimal or almost optimal."
   ]
  },
  {
   "cell_type": "code",
   "execution_count": 232,
   "metadata": {},
   "outputs": [
    {
     "name": "stdout",
     "output_type": "stream",
     "text": [
      "Tts50_c1/tns50:\t 4723086370/2004049=2356.771900287867\n",
      "Tts50_c2/tns50:\t 4529720952/2004049=2260.2845299690775\n",
      "Tts50_c3/tns50:\t 4931497187/2004049=2460.7667711717627\n"
     ]
    }
   ],
   "source": [
    "print(\"Tts50_c1/tns50:\\t {0}/{1}={2}\".format(tts50_c1,tns50,(tts50_c1/tns50)))\n",
    "print(\"Tts50_c2/tns50:\\t {0}/{1}={2}\".format(tts50_c2,tns50,(tts50_c2/tns50)))\n",
    "print(\"Tts50_c3/tns50:\\t {0}/{1}={2}\".format(tts50_c3,tns50,(tts50_c3/tns50)))"
   ]
  },
  {
   "cell_type": "code",
   "execution_count": 233,
   "metadata": {},
   "outputs": [
    {
     "name": "stdout",
     "output_type": "stream",
     "text": [
      "Tts100_c1/tns100:\t 16492252209/5522799=2986.212644892563\n",
      "Tts100_c2/tns100:\t 15342806172/5522799=2778.08520136257\n",
      "Tts100_c3/tns100:\t 18020002893/5522799=3262.838805649092\n"
     ]
    }
   ],
   "source": [
    "print(\"Tts100_c1/tns100:\\t {0}/{1}={2}\".format(tts100_c1,tns100,(tts100_c1/tns100)))\n",
    "print(\"Tts100_c2/tns100:\\t {0}/{1}={2}\".format(tts100_c2,tns100,(tts100_c2/tns100)))\n",
    "print(\"Tts100_c3/tns100:\\t {0}/{1}={2}\".format(tts100_c3,tns100,(tts100_c3/tns100)))"
   ]
  },
  {
   "cell_type": "markdown",
   "metadata": {},
   "source": [
    "Like GA, compared with NS, TS performed worse, in terms of CPU time, on big datasets but the results obtained were optimal or almost optimal."
   ]
  },
  {
   "cell_type": "code",
   "execution_count": 234,
   "metadata": {},
   "outputs": [
    {
     "name": "stdout",
     "output_type": "stream",
     "text": [
      "Tga50_c1/tts50_c1:\t 21242617744/4723086370=4.497613653421291\n",
      "Tga50_c2/tts50_c2:\t 17812072853/4529720952=3.932267140017856\n",
      "Tga50_c3/tts50_c3:\t 58750305317/4931497187=11.913279697669227\n"
     ]
    }
   ],
   "source": [
    "print(\"Tga50_c1/tts50_c1:\\t {0}/{1}={2}\".format(tga50_c1,tts50_c1,(tga50_c1/tts50_c1)))\n",
    "print(\"Tga50_c2/tts50_c2:\\t {0}/{1}={2}\".format(tga50_c2,tts50_c2,(tga50_c2/tts50_c2)))\n",
    "print(\"Tga50_c3/tts50_c3:\\t {0}/{1}={2}\".format(tga50_c3,tts50_c3,(tga50_c3/tts50_c3)))"
   ]
  },
  {
   "cell_type": "code",
   "execution_count": 235,
   "metadata": {},
   "outputs": [
    {
     "name": "stdout",
     "output_type": "stream",
     "text": [
      "Tga100_c1/tts100_c1:\t 32917133007/16492252209=1.995914966000627\n",
      "Tga100_c2/tts100_c2:\t 26302340789/15342806172=1.7143109607289901\n",
      "Tga100_c3/tts100_c3:\t 84904569232/18020002893=4.7116845505602996\n"
     ]
    }
   ],
   "source": [
    "print(\"Tga100_c1/tts100_c1:\\t {0}/{1}={2}\".format(tga100_c1,tts100_c1,(tga100_c1/tts100_c1)))\n",
    "print(\"Tga100_c2/tts100_c2:\\t {0}/{1}={2}\".format(tga100_c2,tts100_c2,(tga100_c2/tts100_c2)))\n",
    "print(\"Tga100_c3/tts100_c3:\\t {0}/{1}={2}\".format(tga100_c3,tts100_c3,(tga100_c3/tts100_c3)))"
   ]
  },
  {
   "cell_type": "markdown",
   "metadata": {},
   "source": [
    "On big datasets, depending on the configurations, GA performed almost identical with TS or worse. Though, the advantage of GA is the optimality of the solutions obtained."
   ]
  }
 ],
 "metadata": {
  "file_extension": ".py",
  "kernelspec": {
   "display_name": "Python 3",
   "language": "python",
   "name": "python3"
  },
  "language_info": {
   "codemirror_mode": {
    "name": "ipython",
    "version": 3
   },
   "file_extension": ".py",
   "mimetype": "text/x-python",
   "name": "python",
   "nbconvert_exporter": "python",
   "pygments_lexer": "ipython3",
   "version": "3.7.3"
  },
  "mimetype": "text/x-python",
  "name": "python",
  "npconvert_exporter": "python",
  "pygments_lexer": "ipython3",
  "version": 3
 },
 "nbformat": 4,
 "nbformat_minor": 2
}
