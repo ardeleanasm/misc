{
 "cells": [
  {
   "cell_type": "code",
   "execution_count": null,
   "metadata": {},
   "outputs": [],
   "source": [
    "Sts8=[133929240,135798099,133619554]\n",
    "Sts10=[427776993,423576617,429707559]\n",
    "Sts50=[4723086370,4529720952,4931497187]\n",
    "Sts100=[16492252209,15342806172,18020002893]"
   ]
  },
  {
   "cell_type": "code",
   "execution_count": null,
   "metadata": {},
   "outputs": [],
   "source": [
    "GAS8=[11421099910,10207837717,33780081479]\n",
    "GAS10=[11864821076,10690700033,35080996880]\n",
    "GAS50=[21274867338,17133198346,59016475810]\n",
    "GAS100=[32371993995,25197287432,86849431654]"
   ]
  }
 ],
 "metadata": {
  "kernelspec": {
   "display_name": "Python 3",
   "language": "python",
   "name": "python3"
  }
 },
 "nbformat": 4,
 "nbformat_minor": 2
}
