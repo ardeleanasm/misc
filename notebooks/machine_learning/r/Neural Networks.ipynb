{
 "cells": [
  {
   "cell_type": "markdown",
   "metadata": {},
   "source": [
    "## Neural Networks"
   ]
  },
  {
   "cell_type": "code",
   "execution_count": 37,
   "metadata": {},
   "outputs": [],
   "source": [
    "library(ggplot2)\n",
    "library(repr)\n",
    "library(gmodels)\n",
    "options(repr.plot.width=3.5, repr.plot.height=3) # Set the initial plot area dimensions\n",
    "library(neuralnet)"
   ]
  },
  {
   "cell_type": "code",
   "execution_count": 38,
   "metadata": {},
   "outputs": [],
   "source": [
    "concrete <- read.csv(\"concrete.csv\")"
   ]
  },
  {
   "cell_type": "code",
   "execution_count": 39,
   "metadata": {},
   "outputs": [
    {
     "name": "stdout",
     "output_type": "stream",
     "text": [
      "'data.frame':\t1030 obs. of  9 variables:\n",
      " $ cement      : num  141 169 250 266 155 ...\n",
      " $ slag        : num  212 42.2 0 114 183.4 ...\n",
      " $ ash         : num  0 124.3 95.7 0 0 ...\n",
      " $ water       : num  204 158 187 228 193 ...\n",
      " $ superplastic: num  0 10.8 5.5 0 9.1 0 0 6.4 0 9 ...\n",
      " $ coarseagg   : num  972 1081 957 932 1047 ...\n",
      " $ fineagg     : num  748 796 861 670 697 ...\n",
      " $ age         : int  28 14 28 28 28 90 7 56 28 28 ...\n",
      " $ strength    : num  29.9 23.5 29.2 45.9 18.3 ...\n"
     ]
    }
   ],
   "source": [
    "str(concrete)"
   ]
  },
  {
   "cell_type": "code",
   "execution_count": 40,
   "metadata": {},
   "outputs": [],
   "source": [
    "#normalizatin 0-1 function\n",
    "normalize <- function(x) {\n",
    "    return((x - min(x)) / (max(x) - min(x)))\n",
    "}"
   ]
  },
  {
   "cell_type": "code",
   "execution_count": 41,
   "metadata": {},
   "outputs": [],
   "source": [
    "concrete_norm<-as.data.frame(lapply(concrete,normalize))"
   ]
  },
  {
   "cell_type": "code",
   "execution_count": 42,
   "metadata": {},
   "outputs": [],
   "source": [
    "#prepare train and test datasets\n",
    "concrete_train<-concrete_norm[1:733,]\n",
    "concrete_test<-concrete_norm[734:1030,]"
   ]
  },
  {
   "cell_type": "code",
   "execution_count": 43,
   "metadata": {},
   "outputs": [],
   "source": [
    "concrete_model<- neuralnet(strength ~ cement + slag+ ash + water + superplastic + coarseagg + fineagg + age,\n",
    "data = concrete_train,hidden=5)"
   ]
  },
  {
   "cell_type": "code",
   "execution_count": 44,
   "metadata": {},
   "outputs": [],
   "source": [
    "model_results <- compute(concrete_model, concrete_test[1:8])"
   ]
  },
  {
   "cell_type": "code",
   "execution_count": 45,
   "metadata": {},
   "outputs": [],
   "source": [
    "predicted_strength <- model_results$net.result"
   ]
  },
  {
   "cell_type": "code",
   "execution_count": 46,
   "metadata": {},
   "outputs": [
    {
     "data": {
      "text/html": [
       "<table>\n",
       "<tbody>\n",
       "\t<tr><td>0.9353424106</td></tr>\n",
       "</tbody>\n",
       "</table>\n"
      ],
      "text/latex": [
       "\\begin{tabular}{l}\n",
       "\t 0.9353424106\\\\\n",
       "\\end{tabular}\n"
      ],
      "text/markdown": [
       "\n",
       "| 0.9353424106 | \n",
       "\n",
       "\n"
      ],
      "text/plain": [
       "     [,1]        \n",
       "[1,] 0.9353424106"
      ]
     },
     "metadata": {},
     "output_type": "display_data"
    }
   ],
   "source": [
    "cor(predicted_strength, concrete_test$strength)"
   ]
  },
  {
   "cell_type": "markdown",
   "metadata": {},
   "source": [
    "## Support Vector Machines"
   ]
  },
  {
   "cell_type": "code",
   "execution_count": 51,
   "metadata": {},
   "outputs": [],
   "source": [
    "library(kernlab)"
   ]
  },
  {
   "cell_type": "code",
   "execution_count": 52,
   "metadata": {},
   "outputs": [],
   "source": [
    "letters <- read.csv(\"letterdata.csv\")"
   ]
  },
  {
   "cell_type": "code",
   "execution_count": 53,
   "metadata": {},
   "outputs": [
    {
     "name": "stdout",
     "output_type": "stream",
     "text": [
      "'data.frame':\t20000 obs. of  17 variables:\n",
      " $ letter: Factor w/ 26 levels \"A\",\"B\",\"C\",\"D\",..: 20 9 4 14 7 19 2 1 10 13 ...\n",
      " $ xbox  : int  2 5 4 7 2 4 4 1 2 11 ...\n",
      " $ ybox  : int  8 12 11 11 1 11 2 1 2 15 ...\n",
      " $ width : int  3 3 6 6 3 5 5 3 4 13 ...\n",
      " $ height: int  5 7 8 6 1 8 4 2 4 9 ...\n",
      " $ onpix : int  1 2 6 3 1 3 4 1 2 7 ...\n",
      " $ xbar  : int  8 10 10 5 8 8 8 8 10 13 ...\n",
      " $ ybar  : int  13 5 6 9 6 8 7 2 6 2 ...\n",
      " $ x2bar : int  0 5 2 4 6 6 6 2 2 6 ...\n",
      " $ y2bar : int  6 4 6 6 6 9 6 2 6 2 ...\n",
      " $ xybar : int  6 13 10 4 6 5 7 8 12 12 ...\n",
      " $ x2ybar: int  10 3 3 4 5 6 6 2 4 1 ...\n",
      " $ xy2bar: int  8 9 7 10 9 6 6 8 8 9 ...\n",
      " $ xedge : int  0 2 3 6 1 0 2 1 1 8 ...\n",
      " $ xedgey: int  8 8 7 10 7 8 8 6 6 1 ...\n",
      " $ yedge : int  0 4 3 2 5 9 7 2 1 1 ...\n",
      " $ yedgex: int  8 10 9 8 10 7 10 7 7 8 ...\n"
     ]
    }
   ],
   "source": [
    "str(letters)"
   ]
  },
  {
   "cell_type": "code",
   "execution_count": 54,
   "metadata": {},
   "outputs": [],
   "source": [
    "letters_train <- letters[1:16000, ]\n",
    "letters_test <- letters[16001:20000, ]"
   ]
  },
  {
   "cell_type": "code",
   "execution_count": 64,
   "metadata": {},
   "outputs": [],
   "source": [
    "letter_classifier <- ksvm(letter ~ ., data = letters_train,kernel = \"rbfdot\")"
   ]
  },
  {
   "cell_type": "code",
   "execution_count": 65,
   "metadata": {},
   "outputs": [
    {
     "data": {
      "text/plain": [
       "Support Vector Machine object of class \"ksvm\" \n",
       "\n",
       "SV type: C-svc  (classification) \n",
       " parameter : cost C = 1 \n",
       "\n",
       "Gaussian Radial Basis kernel function. \n",
       " Hyperparameter : sigma =  0.0483085359612089 \n",
       "\n",
       "Number of Support Vectors : 8666 \n",
       "\n",
       "Objective Function Value : -42.7623 -33.6694 -58.5669 -26.9979 -34.4063 -46.4374 -66.2879 -38.8714 -68.0533 -51.9096 -44.8825 -60.1753 -63.3525 -48.7781 -33.6459 -46.5 -57.8035 -43.3486 -40.0472 -63.3101 -47.8289 -37.8402 -41.365 -53.8945 -41.0211 -36.0275 -163.4847 -110.8379 -95.9175 -116.1089 -179.392 -80.3727 -76.6467 -98.313 -63.2099 -62.1452 -57.2556 -69.5287 -78.7362 -100.9987 -239.5926 -190.2578 -50.0332 -40.7095 -77.3016 -43.3988 -100.8455 -39.7315 -60.9102 -34.5921 -142.8297 -43.5851 -215.2108 -81.508 -34.4623 -26.5648 -115.9265 -83.1642 -38.5878 -39.129 -87.593 -45.0476 -57.2973 -48.1271 -51.0574 -60.6713 -86.9147 -37.2708 -27.1495 -49.6639 -27.8603 -28.3192 -41.8835 -73.8218 -80.7296 -208.1639 -73.6829 -88.4593 -82.0702 -39.0514 -51.9183 -115.408 -140.5913 -71.6941 -67.0005 -145.6645 -91.4937 -57.0666 -63.284 -41.0222 -28.3695 -97.8721 -36.2384 -59.5911 -81.6084 -173.2058 -102.2107 -71.2431 -53.6896 -141.0362 -117.5079 -38.8542 -25.5291 -44.8201 -60.3193 -96.5131 -82.7595 -177.2825 -99.4865 -38.4059 -43.0227 -24.8313 -146.5846 -31.1402 -138.8522 -69.6177 -99.886 -97.7684 -86.3135 -51.3357 -37.938 -32.2726 -49.7057 -37.5319 -215.2753 -43.0875 -55.5537 -127.5848 -135.3667 -35.0966 -57.5949 -30.5106 -81.1094 -80.2045 -52.46 -158.7817 -57.6668 -48.6162 -122.5207 -116.6435 -65.7368 -52.0656 -151.873 -88.8551 -174.8066 -130.3118 -107.6362 -65.8927 -67.4663 -74.5854 -58.5407 -90.1478 -34.2892 -41.8175 -62.5387 -84.9189 -207.2516 -72.2239 -89.4874 -163.3208 -210.4425 -100.3713 -121.6821 -229.0632 -87.6376 -81.5104 -130.4204 -89.4377 -62.538 -132.4937 -60.9333 -42.1971 -169.994 -47.4278 -58.3216 -19.8651 -28.2989 -37.3988 -58.6199 -60.3821 -50.2483 -131.3654 -47.576 -24.1542 -23.1782 -14.848 -125.3193 -29.8984 -76.0689 -46.7743 -47.9926 -27.3705 -41.3263 -53.3496 -51.35 -57.217 -56.5595 -108.6254 -45.6488 -35.4708 -26.3735 -16.9662 -94.3095 -30.8126 -83.0246 -92.6421 -64.7875 -62.385 -59.1223 -47.3514 -59.5731 -177.0234 -73.556 -68.3428 -74.7039 -47.1893 -42.3901 -177.4857 -29.8546 -38.0106 -32.015 -34.6266 -45.2859 -49.0538 -85.723 -76.5383 -93.2583 -49.4962 -36.5602 -31.7097 -23.1209 -84.3757 -29.5028 -46.5506 -98.3055 -66.9932 -39.3865 -40.4561 -75.2719 -27.1241 -34.9731 -90.076 -67.0146 -119.2193 -26.1312 -31.3918 -15.9747 -101.7408 -51.7101 -40.95 -88.5785 -30.2611 -41.1882 -92.4112 -67.524 -74.6985 -40.1268 -46.073 -21.432 -75.4532 -192.7777 -94.3723 -53.9772 -47.2158 -94.708 -56.2958 -80.084 -72.4707 -27.7563 -28.365 -63.2991 -63.7282 -69.147 -61.5729 -34.7934 -70.6679 -47.1293 -47.2709 -71.0455 -27.185 -84.3296 -100.7749 -39.5435 -44.8972 -41.7948 -36.7788 -78.7781 -44.3475 -61.5757 -87.6451 -57.0011 -46.9481 -71.098 -49.5806 -97.0742 -29.3226 -37.0675 -99.0155 -30.4452 -34.8823 -18.6798 -148.8466 -46.7903 -217.8641 -60.4319 -69.8808 -29.4716 -88.254 -158.455 -73.3057 -62.5078 -72.3222 -48.0484 -51.2394 -20.2983 -108.6775 -33.3932 -180.2289 -18.0143 -20.0476 -40.901 -10.9545 -46.1056 -100.4489 -33.4155 \n",
       "Training error : 0.050875 "
      ]
     },
     "metadata": {},
     "output_type": "display_data"
    }
   ],
   "source": [
    "letter_classifier"
   ]
  },
  {
   "cell_type": "code",
   "execution_count": 66,
   "metadata": {},
   "outputs": [],
   "source": [
    "letter_predictions <- predict(letter_classifier, letters_test)"
   ]
  },
  {
   "cell_type": "code",
   "execution_count": 58,
   "metadata": {},
   "outputs": [
    {
     "data": {
      "text/html": [
       "<ol class=list-inline>\n",
       "\t<li>U</li>\n",
       "\t<li>N</li>\n",
       "\t<li>V</li>\n",
       "\t<li>X</li>\n",
       "\t<li>N</li>\n",
       "\t<li>H</li>\n",
       "</ol>\n",
       "\n",
       "<details>\n",
       "\t<summary style=display:list-item;cursor:pointer>\n",
       "\t\t<strong>Levels</strong>:\n",
       "\t</summary>\n",
       "\t<ol class=list-inline>\n",
       "\t\t<li>'A'</li>\n",
       "\t\t<li>'B'</li>\n",
       "\t\t<li>'C'</li>\n",
       "\t\t<li>'D'</li>\n",
       "\t\t<li>'E'</li>\n",
       "\t\t<li>'F'</li>\n",
       "\t\t<li>'G'</li>\n",
       "\t\t<li>'H'</li>\n",
       "\t\t<li>'I'</li>\n",
       "\t\t<li>'J'</li>\n",
       "\t\t<li>'K'</li>\n",
       "\t\t<li>'L'</li>\n",
       "\t\t<li>'M'</li>\n",
       "\t\t<li>'N'</li>\n",
       "\t\t<li>'O'</li>\n",
       "\t\t<li>'P'</li>\n",
       "\t\t<li>'Q'</li>\n",
       "\t\t<li>'R'</li>\n",
       "\t\t<li>'S'</li>\n",
       "\t\t<li>'T'</li>\n",
       "\t\t<li>'U'</li>\n",
       "\t\t<li>'V'</li>\n",
       "\t\t<li>'W'</li>\n",
       "\t\t<li>'X'</li>\n",
       "\t\t<li>'Y'</li>\n",
       "\t\t<li>'Z'</li>\n",
       "\t</ol>\n",
       "</details>"
      ],
      "text/latex": [
       "\\begin{enumerate*}\n",
       "\\item U\n",
       "\\item N\n",
       "\\item V\n",
       "\\item X\n",
       "\\item N\n",
       "\\item H\n",
       "\\end{enumerate*}\n",
       "\n",
       "\\emph{Levels}: \\begin{enumerate*}\n",
       "\\item 'A'\n",
       "\\item 'B'\n",
       "\\item 'C'\n",
       "\\item 'D'\n",
       "\\item 'E'\n",
       "\\item 'F'\n",
       "\\item 'G'\n",
       "\\item 'H'\n",
       "\\item 'I'\n",
       "\\item 'J'\n",
       "\\item 'K'\n",
       "\\item 'L'\n",
       "\\item 'M'\n",
       "\\item 'N'\n",
       "\\item 'O'\n",
       "\\item 'P'\n",
       "\\item 'Q'\n",
       "\\item 'R'\n",
       "\\item 'S'\n",
       "\\item 'T'\n",
       "\\item 'U'\n",
       "\\item 'V'\n",
       "\\item 'W'\n",
       "\\item 'X'\n",
       "\\item 'Y'\n",
       "\\item 'Z'\n",
       "\\end{enumerate*}\n"
      ],
      "text/markdown": [
       "1. U\n",
       "2. N\n",
       "3. V\n",
       "4. X\n",
       "5. N\n",
       "6. H\n",
       "\n",
       "\n",
       "\n",
       "**Levels**: 1. 'A'\n",
       "2. 'B'\n",
       "3. 'C'\n",
       "4. 'D'\n",
       "5. 'E'\n",
       "6. 'F'\n",
       "7. 'G'\n",
       "8. 'H'\n",
       "9. 'I'\n",
       "10. 'J'\n",
       "11. 'K'\n",
       "12. 'L'\n",
       "13. 'M'\n",
       "14. 'N'\n",
       "15. 'O'\n",
       "16. 'P'\n",
       "17. 'Q'\n",
       "18. 'R'\n",
       "19. 'S'\n",
       "20. 'T'\n",
       "21. 'U'\n",
       "22. 'V'\n",
       "23. 'W'\n",
       "24. 'X'\n",
       "25. 'Y'\n",
       "26. 'Z'\n",
       "\n",
       "\n"
      ],
      "text/plain": [
       "[1] U N V X N H\n",
       "Levels: A B C D E F G H I J K L M N O P Q R S T U V W X Y Z"
      ]
     },
     "metadata": {},
     "output_type": "display_data"
    }
   ],
   "source": [
    "head(letter_predictions)"
   ]
  },
  {
   "cell_type": "code",
   "execution_count": 67,
   "metadata": {},
   "outputs": [
    {
     "data": {
      "text/plain": [
       "                  \n",
       "letter_predictions   A   B   C   D   E   F   G   H   I   J   K   L   M   N   O\n",
       "                 A 151   0   0   0   0   0   0   0   0   0   0   0   0   0   0\n",
       "                 B   0 128   0   3   0   1   0   2   0   0   0   1   2   1   0\n",
       "                 C   0   0 133   0   3   0   1   0   2   0   0   1   0   0   0\n",
       "                 D   1   1   0 161   0   0   2   8   2   3   1   0   0   1   1\n",
       "                 E   0   0   2   0 137   2   0   0   0   1   0   4   0   0   0\n",
       "                 F   0   0   0   0   0 148   0   0   3   0   0   0   0   0   0\n",
       "                 G   0   0   2   0   8   0 154   2   0   0   0   2   2   0   2\n",
       "                 H   0   1   0   1   0   0   2 126   0   1   2   1   1   3   0\n",
       "                 I   0   0   0   0   0   0   0   0 151   3   0   0   0   0   0\n",
       "                 J   0   0   0   0   0   0   0   0   3 136   0   0   0   0   0\n",
       "                 K   0   0   1   0   0   0   0   4   0   0 132   0   0   1   0\n",
       "                 L   0   0   0   0   0   0   1   0   0   0   0 142   0   0   0\n",
       "                 M   0   0   0   0   0   0   1   1   0   0   0   0 138   1   0\n",
       "                 N   0   0   0   0   0   2   0   0   0   0   0   0   0 150   0\n",
       "                 O   0   0   2   0   0   0   0   0   0   1   0   0   0   5 129\n",
       "                 P   0   0   0   0   0   0   0   0   1   0   0   0   0   0   0\n",
       "                 Q   0   0   0   0   0   0   0   1   0   0   0   0   0   0   3\n",
       "                 R   0   3   1   1   0   0   2   5   0   0   9   1   0   3   2\n",
       "                 S   0   2   0   0   0   0   0   0   1   2   0   1   0   0   0\n",
       "                 T   0   0   0   0   0   0   0   0   0   0   0   0   0   0   0\n",
       "                 U   0   0   1   1   0   0   0   1   0   0   0   0   0   0   0\n",
       "                 V   0   0   0   0   0   0   0   0   0   0   0   0   0   1   0\n",
       "                 W   0   0   0   0   0   0   1   0   0   0   0   0   1   0   2\n",
       "                 X   0   1   0   0   1   0   0   0   0   0   2   4   0   0   0\n",
       "                 Y   4   0   0   0   0   0   0   1   0   0   0   0   0   0   0\n",
       "                 Z   0   0   0   0   3   0   0   0   2   1   0   0   0   0   0\n",
       "                  \n",
       "letter_predictions   P   Q   R   S   T   U   V   W   X   Y   Z\n",
       "                 A   0   3   0   0   1   0   0   0   0   0   0\n",
       "                 B   2   1   3   3   0   0   3   1   1   0   0\n",
       "                 C   0   0   0   0   0   0   0   0   0   0   0\n",
       "                 D   3   1   3   0   2   0   0   0   2   3   0\n",
       "                 E   1   0   0   2   1   0   0   0   0   0   2\n",
       "                 F  11   0   0   1   0   0   1   0   0   0   0\n",
       "                 G   1   0   0   0   2   0   0   0   0   0   0\n",
       "                 H   1   1   0   0   2   0   1   0   0   0   0\n",
       "                 I   0   0   0   0   0   0   0   0   1   0   0\n",
       "                 J   0   0   0   0   0   0   0   0   0   0   3\n",
       "                 K   0   0   3   0   0   0   0   0   2   0   0\n",
       "                 L   0   0   0   1   0   0   0   0   0   0   0\n",
       "                 M   0   0   0   0   0   1   0   2   0   0   0\n",
       "                 N   0   0   2   0   0   0   0   1   0   0   0\n",
       "                 O   2   4   0   0   0   1   0   0   0   0   0\n",
       "                 P 141   0   0   0   0   0   0   0   0   0   0\n",
       "                 Q   3 158   0   0   0   0   0   0   0   0   0\n",
       "                 R   1   0 150   0   1   0   0   0   0   0   0\n",
       "                 S   0   0   0 152   0   0   0   0   0   0   2\n",
       "                 T   0   0   0   0 140   0   0   0   0   1   0\n",
       "                 U   0   0   0   0   0 161   0   0   0   1   0\n",
       "                 V   0   0   0   0   0   2 131   0   0   1   0\n",
       "                 W   0   0   0   0   0   3   0 135   0   0   0\n",
       "                 X   0   0   0   1   1   0   0   0 153   1   1\n",
       "                 Y   2   0   0   0   1   0   0   0   0 138   0\n",
       "                 Z   0   0   0   1   0   0   0   0   0   0 150"
      ]
     },
     "metadata": {},
     "output_type": "display_data"
    }
   ],
   "source": [
    "table(letter_predictions, letters_test$letter)"
   ]
  },
  {
   "cell_type": "code",
   "execution_count": 68,
   "metadata": {},
   "outputs": [],
   "source": [
    "agreement <- letter_predictions == letters_test$letter"
   ]
  },
  {
   "cell_type": "code",
   "execution_count": 69,
   "metadata": {},
   "outputs": [
    {
     "data": {
      "text/plain": [
       "agreement\n",
       "FALSE  TRUE \n",
       "  275  3725 "
      ]
     },
     "metadata": {},
     "output_type": "display_data"
    }
   ],
   "source": [
    "table(agreement)"
   ]
  },
  {
   "cell_type": "code",
   "execution_count": null,
   "metadata": {},
   "outputs": [],
   "source": []
  }
 ],
 "metadata": {
  "kernelspec": {
   "display_name": "R",
   "language": "R",
   "name": "ir"
  },
  "language_info": {
   "codemirror_mode": "r",
   "file_extension": ".r",
   "mimetype": "text/x-r-source",
   "name": "R",
   "pygments_lexer": "r",
   "version": "3.5.1"
  }
 },
 "nbformat": 4,
 "nbformat_minor": 2
}
