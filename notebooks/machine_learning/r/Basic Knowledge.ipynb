{
 "cells": [
  {
   "cell_type": "markdown",
   "metadata": {},
   "source": [
    "# Numeric Variables"
   ]
  },
  {
   "cell_type": "code",
   "execution_count": 1,
   "metadata": {},
   "outputs": [],
   "source": [
    "library(ggplot2)\n",
    "library(repr)\n",
    "options(repr.plot.width=3.5, repr.plot.height=3) # Set the initial plot area dimensions\n",
    "usedcars <- read.csv(\"usedcars.csv\", stringsAsFactors = FALSE)"
   ]
  },
  {
   "cell_type": "code",
   "execution_count": 2,
   "metadata": {},
   "outputs": [
    {
     "name": "stdout",
     "output_type": "stream",
     "text": [
      "'data.frame':\t150 obs. of  6 variables:\n",
      " $ year        : int  2011 2011 2011 2011 2012 2010 2011 2010 2011 2010 ...\n",
      " $ model       : chr  \"SEL\" \"SEL\" \"SEL\" \"SEL\" ...\n",
      " $ price       : int  21992 20995 19995 17809 17500 17495 17000 16995 16995 16995 ...\n",
      " $ mileage     : int  7413 10926 7351 11613 8367 25125 27393 21026 32655 36116 ...\n",
      " $ color       : chr  \"Yellow\" \"Gray\" \"Silver\" \"Gray\" ...\n",
      " $ transmission: chr  \"AUTO\" \"AUTO\" \"AUTO\" \"AUTO\" ...\n"
     ]
    }
   ],
   "source": [
    "str(usedcars)"
   ]
  },
  {
   "cell_type": "code",
   "execution_count": 3,
   "metadata": {},
   "outputs": [
    {
     "data": {
      "text/plain": [
       "    mileage           price      \n",
       " Min.   :  4867   Min.   : 3800  \n",
       " 1st Qu.: 27200   1st Qu.:10995  \n",
       " Median : 36385   Median :13592  \n",
       " Mean   : 44261   Mean   :12962  \n",
       " 3rd Qu.: 55125   3rd Qu.:14904  \n",
       " Max.   :151479   Max.   :21992  "
      ]
     },
     "metadata": {},
     "output_type": "display_data"
    }
   ],
   "source": [
    "summary(usedcars[c(\"mileage\",\"price\")])"
   ]
  },
  {
   "cell_type": "code",
   "execution_count": 4,
   "metadata": {},
   "outputs": [
    {
     "data": {},
     "metadata": {},
     "output_type": "display_data"
    },
    {
     "data": {
      "image/png": "[encoded data removed]",
      "text/plain": [
       "plot without title"
      ]
     },
     "metadata": {},
     "output_type": "display_data"
    }
   ],
   "source": [
    "ggplot(usedcars, aes(y = price)) +\n",
    "       geom_boxplot() +\n",
    "       ylab('Price') +\n",
    "       ggtitle('Price Box Plot')"
   ]
  },
  {
   "cell_type": "code",
   "execution_count": 5,
   "metadata": {},
   "outputs": [
    {
     "data": {},
     "metadata": {},
     "output_type": "display_data"
    },
    {
     "data": {
      "image/png": "[encoded data removed]",
      "text/plain": [
       "plot without title"
      ]
     },
     "metadata": {},
     "output_type": "display_data"
    }
   ],
   "source": [
    "## Histogram of the sample\n",
    "ggplot(usedcars, aes(price)) + geom_histogram(fill = 'blue', bins = 10) +\n",
    "       xlab('Price') + ylab('frequency')"
   ]
  },
  {
   "cell_type": "markdown",
   "metadata": {},
   "source": [
    "## Mean\n",
    "\n",
    "<span style=\"color:blue\">** Is a measurement defined as the sum of all values divided by the number of values.** </span>\n",
    "\n",
    "## Median\n",
    "\n",
    "<span style=\"color:blue\">** Is the value that occurs halfway through an ordered list of values.**</span>"
   ]
  },
  {
   "cell_type": "code",
   "execution_count": 6,
   "metadata": {},
   "outputs": [
    {
     "data": {
      "text/html": [
       "<dl class=dl-horizontal>\n",
       "\t<dt>0%</dt>\n",
       "\t\t<dd>3800</dd>\n",
       "\t<dt>25%</dt>\n",
       "\t\t<dd>10995</dd>\n",
       "\t<dt>50%</dt>\n",
       "\t\t<dd>13591.5</dd>\n",
       "\t<dt>75%</dt>\n",
       "\t\t<dd>14904.5</dd>\n",
       "\t<dt>100%</dt>\n",
       "\t\t<dd>21992</dd>\n",
       "</dl>\n"
      ],
      "text/latex": [
       "\\begin{description*}\n",
       "\\item[0\\textbackslash{}\\%] 3800\n",
       "\\item[25\\textbackslash{}\\%] 10995\n",
       "\\item[50\\textbackslash{}\\%] 13591.5\n",
       "\\item[75\\textbackslash{}\\%] 14904.5\n",
       "\\item[100\\textbackslash{}\\%] 21992\n",
       "\\end{description*}\n"
      ],
      "text/markdown": [
       "0%\n",
       ":   380025%\n",
       ":   1099550%\n",
       ":   13591.575%\n",
       ":   14904.5100%\n",
       ":   21992\n",
       "\n"
      ],
      "text/plain": [
       "     0%     25%     50%     75%    100% \n",
       " 3800.0 10995.0 13591.5 14904.5 21992.0 "
      ]
     },
     "metadata": {},
     "output_type": "display_data"
    }
   ],
   "source": [
    "quantile(usedcars$price)"
   ]
  },
  {
   "cell_type": "code",
   "execution_count": 7,
   "metadata": {},
   "outputs": [
    {
     "name": "stdout",
     "output_type": "stream",
     "text": [
      "[1] \"Mean:  12961.9333333333\"\n",
      "[1] \"Median:  13591.5\"\n"
     ]
    },
    {
     "data": {},
     "metadata": {},
     "output_type": "display_data"
    },
    {
     "data": {
      "image/png": "[encoded data removed]",
      "text/plain": [
       "plot without title"
      ]
     },
     "metadata": {},
     "output_type": "display_data"
    }
   ],
   "source": [
    "m = mean(usedcars$price)\n",
    "mm = median(usedcars$price)\n",
    "## Print the statistics\n",
    "print(paste('Mean: ', as.character(m)))\n",
    "print(paste('Median: ', as.character(mm)))\n",
    "\n",
    "## Histogram of the sample means with standard errors\n",
    "ggplot(usedcars, aes(price)) + geom_histogram(fill = 'blue', bins = 10) +\n",
    "       geom_vline(xintercept = m, color = 'red', linetype=\"dashed\", size = 0.8) +\n",
    "       geom_vline(xintercept = mm, color = 'magenta', linetype=\"dashed\", size = 0.8) +\n",
    "       xlab('Price') + ylab('frequency') +\n",
    "       ggtitle('Mean and Median')"
   ]
  },
  {
   "cell_type": "markdown",
   "metadata": {},
   "source": [
    "## Variance\n",
    "\n",
    "<span style=\"color:blue\">** Is defined as the average of the squared differences between each value and the mean value.** </span>\n",
    "\n",
    "\\begin{equation}\n",
    "    VAR(X)=\\sigma^{2}=\\frac{1}{n}\\sum\\limits_{i=1}^n (x_{i}-\\mu)^{2}\n",
    "    \\label{eq:variance}\n",
    "\\end{equation}\n",
    "\n",
    "\n",
    "## Standard Deviation\n",
    "\n",
    "<span style=\"color:blue\"> **The standard deviation is the square root of the variance, and is denoted by sigma, as\n",
    "shown in the following formula and measures the spread.** </span>\n",
    "\n",
    "\\begin{equation}\n",
    "    StdDev(X)=\\sigma=\\sqrt{\\frac{1}{n}\\sum\\limits_{i=1}^n (x_{i}-\\mu)^{2}}\n",
    "    \\label{eq:std}\n",
    "\\end{equation}"
   ]
  },
  {
   "cell_type": "code",
   "execution_count": 8,
   "metadata": {},
   "outputs": [
    {
     "data": {
      "text/html": [
       "9749892.18344519"
      ],
      "text/latex": [
       "9749892.18344519"
      ],
      "text/markdown": [
       "9749892.18344519"
      ],
      "text/plain": [
       "[1] 9749892"
      ]
     },
     "metadata": {},
     "output_type": "display_data"
    },
    {
     "data": {
      "text/html": [
       "3122.4817346856"
      ],
      "text/latex": [
       "3122.4817346856"
      ],
      "text/markdown": [
       "3122.4817346856"
      ],
      "text/plain": [
       "[1] 3122.482"
      ]
     },
     "metadata": {},
     "output_type": "display_data"
    }
   ],
   "source": [
    "var(usedcars$price) #compute variance\n",
    "sd(usedcars$price) #compute standard deviation"
   ]
  },
  {
   "cell_type": "code",
   "execution_count": 9,
   "metadata": {},
   "outputs": [
    {
     "name": "stdout",
     "output_type": "stream",
     "text": [
      "[1] \"Mean:  12961.9333333333\"\n",
      "[1] \"STD:  3122.4817346856\"\n"
     ]
    },
    {
     "data": {},
     "metadata": {},
     "output_type": "display_data"
    },
    {
     "data": {
      "image/png": "[encoded data removed]",
      "text/plain": [
       "plot without title"
      ]
     },
     "metadata": {},
     "output_type": "display_data"
    }
   ],
   "source": [
    "m = mean(usedcars$price)\n",
    "std = sd(usedcars$price)\n",
    "moe1 = m - (std * 2)\n",
    "moe2 = m + (std * 2)\n",
    "\n",
    "## Print the statistics\n",
    "print(paste('Mean: ', as.character(m)))\n",
    "print(paste('STD: ', as.character(std)))\n",
    "\n",
    "## Histogram of the sample means with standard errors\n",
    "ggplot(usedcars, aes(price)) + geom_histogram(fill = 'blue', bins = 10) +\n",
    "       geom_vline(xintercept = m, color = 'red', linetype=\"dashed\", size = 0.8) +\n",
    "       geom_vline(xintercept = moe1, color = 'magenta', linetype=\"dashed\", size = 0.8) +\n",
    "       geom_vline(xintercept = moe2, color = 'magenta', linetype=\"dashed\", size = 0.8) +\n",
    "       xlab('Price') + ylab('frequency') +\n",
    "       ggtitle('Simulated Sample Distribution')"
   ]
  },
  {
   "cell_type": "markdown",
   "metadata": {},
   "source": [
    "<span style=\"color:red\">** Obs 1:**</span> Large variance value means that the data are spread more widely around the mean.\n",
    "\n",
    "<span style=\"color:red\">** Obs 2:**</span> The standard deviation indicates, on average, how much each value differs from the mean.\n"
   ]
  },
  {
   "cell_type": "markdown",
   "metadata": {},
   "source": [
    "# Scatterplots"
   ]
  },
  {
   "cell_type": "code",
   "execution_count": 10,
   "metadata": {},
   "outputs": [
    {
     "data": {},
     "metadata": {},
     "output_type": "display_data"
    },
    {
     "data": {
      "image/png": "[encoded data removed]",
      "text/plain": [
       "plot without title"
      ]
     },
     "metadata": {},
     "output_type": "display_data"
    }
   ],
   "source": [
    "ggplot(usedcars, aes(price, mileage)) +\n",
    "       geom_point(color = 'blue', alpha = 0.5) +\n",
    "       xlab('mileage')+ylab('price')+ ggtitle('Price vs. Mileage')"
   ]
  }
 ],
 "metadata": {
  "kernelspec": {
   "display_name": "R",
   "language": "R",
   "name": "ir"
  },
  "language_info": {
   "codemirror_mode": "r",
   "file_extension": ".r",
   "mimetype": "text/x-r-source",
   "name": "R",
   "pygments_lexer": "r",
   "version": "3.5.1"
  }
 },
 "nbformat": 4,
 "nbformat_minor": 2
}
