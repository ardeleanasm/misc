{
 "cells": [
  {
   "cell_type": "markdown",
   "metadata": {},
   "source": [
    "## Nearest neighbor classifiers \n",
    "* Are defined by their characteristic of classifying unlabeled examples by assigning them the class of similar labeled examples."
   ]
  },
  {
   "cell_type": "markdown",
   "metadata": {},
   "source": [
    "## K-NN algorithm\n",
    "\n",
    "The nearest neighbors approach to classification is exemplified by the k-nearest neighbors algorithm (k-NN). \n",
    "\n",
    "Steps:\n",
    "\n",
    "* Choose **k** as the number of nearest neighbors to be used\n",
    "* Provide a training datased made up of examples already classified\n",
    "* Run algorithm on the unlabeled records in the test dataset\n",
    "\n"
   ]
  },
  {
   "cell_type": "markdown",
   "metadata": {},
   "source": [
    "## Normalization\n",
    "\n",
    "### Min-Max Normalization\n",
    "\n",
    "Transform a feature such that all of its values fall in a range between 0 and 1.\n",
    "\n",
    "\\begin{equation}\n",
    "    X_{new}=\\frac{X-min(X)}{max(X)-min(X)}\n",
    "    \\label{eq:minmax}\n",
    "\\end{equation}\n",
    "\n",
    "### Z-Score Standardization\n",
    "\n",
    "Rescales each of the feature's values in terms of how many standard deviations they fall above or below the mean value. **Z-Score** fall in an unbound range of negative and positive numbers.\n",
    "\n",
    "\\begin{equation}\n",
    "    X_{new}=\\frac{X-\\mu}{\\sigma}=\\frac{X-Mean(X)}{StdDev(X)}\n",
    "    \\label{eq:zscore}\n",
    "\\end{equation}"
   ]
  },
  {
   "cell_type": "code",
   "execution_count": 27,
   "metadata": {},
   "outputs": [],
   "source": [
    "library(ggplot2)\n",
    "library(repr)\n",
    "library(class)\n",
    "library(gmodels)\n",
    "wbcd <- read.csv(\"wisc_bc_data.csv\", stringsAsFactors = FALSE)"
   ]
  },
  {
   "cell_type": "code",
   "execution_count": 28,
   "metadata": {},
   "outputs": [
    {
     "name": "stdout",
     "output_type": "stream",
     "text": [
      "'data.frame':\t569 obs. of  32 variables:\n",
      " $ id               : int  87139402 8910251 905520 868871 9012568 906539 925291 87880 862989 89827 ...\n",
      " $ diagnosis        : chr  \"B\" \"B\" \"B\" \"B\" ...\n",
      " $ radius_mean      : num  12.3 10.6 11 11.3 15.2 ...\n",
      " $ texture_mean     : num  12.4 18.9 16.8 13.4 13.2 ...\n",
      " $ perimeter_mean   : num  78.8 69.3 70.9 73 97.7 ...\n",
      " $ area_mean        : num  464 346 373 385 712 ...\n",
      " $ smoothness_mean  : num  0.1028 0.0969 0.1077 0.1164 0.0796 ...\n",
      " $ compactness_mean : num  0.0698 0.1147 0.078 0.1136 0.0693 ...\n",
      " $ concavity_mean   : num  0.0399 0.0639 0.0305 0.0464 0.0339 ...\n",
      " $ points_mean      : num  0.037 0.0264 0.0248 0.048 0.0266 ...\n",
      " $ symmetry_mean    : num  0.196 0.192 0.171 0.177 0.172 ...\n",
      " $ dimension_mean   : num  0.0595 0.0649 0.0634 0.0607 0.0554 ...\n",
      " $ radius_se        : num  0.236 0.451 0.197 0.338 0.178 ...\n",
      " $ texture_se       : num  0.666 1.197 1.387 1.343 0.412 ...\n",
      " $ perimeter_se     : num  1.67 3.43 1.34 1.85 1.34 ...\n",
      " $ area_se          : num  17.4 27.1 13.5 26.3 17.7 ...\n",
      " $ smoothness_se    : num  0.00805 0.00747 0.00516 0.01127 0.00501 ...\n",
      " $ compactness_se   : num  0.0118 0.03581 0.00936 0.03498 0.01485 ...\n",
      " $ concavity_se     : num  0.0168 0.0335 0.0106 0.0219 0.0155 ...\n",
      " $ points_se        : num  0.01241 0.01365 0.00748 0.01965 0.00915 ...\n",
      " $ symmetry_se      : num  0.0192 0.035 0.0172 0.0158 0.0165 ...\n",
      " $ dimension_se     : num  0.00225 0.00332 0.0022 0.00344 0.00177 ...\n",
      " $ radius_worst     : num  13.5 11.9 12.4 11.9 16.2 ...\n",
      " $ texture_worst    : num  15.6 22.9 26.4 15.8 15.7 ...\n",
      " $ perimeter_worst  : num  87 78.3 79.9 76.5 104.5 ...\n",
      " $ area_worst       : num  549 425 471 434 819 ...\n",
      " $ smoothness_worst : num  0.139 0.121 0.137 0.137 0.113 ...\n",
      " $ compactness_worst: num  0.127 0.252 0.148 0.182 0.174 ...\n",
      " $ concavity_worst  : num  0.1242 0.1916 0.1067 0.0867 0.1362 ...\n",
      " $ points_worst     : num  0.0939 0.0793 0.0743 0.0861 0.0818 ...\n",
      " $ symmetry_worst   : num  0.283 0.294 0.3 0.21 0.249 ...\n",
      " $ dimension_worst  : num  0.0677 0.0759 0.0788 0.0678 0.0677 ...\n"
     ]
    }
   ],
   "source": [
    "str(wbcd)"
   ]
  },
  {
   "cell_type": "code",
   "execution_count": 29,
   "metadata": {},
   "outputs": [],
   "source": [
    "wbcd<-wbcd[-1] #drop first column, the id"
   ]
  },
  {
   "cell_type": "code",
   "execution_count": 30,
   "metadata": {},
   "outputs": [
    {
     "data": {
      "text/plain": [
       "\n",
       "  B   M \n",
       "357 212 "
      ]
     },
     "metadata": {},
     "output_type": "display_data"
    }
   ],
   "source": [
    "table(wbcd$diagnosis)"
   ]
  },
  {
   "cell_type": "code",
   "execution_count": 31,
   "metadata": {},
   "outputs": [],
   "source": [
    "wbcd$diagnosis<-factor(wbcd$diagnosis,levels=c('B','M'),labels=c(\"Benign\",\"Malignant\"))"
   ]
  },
  {
   "cell_type": "code",
   "execution_count": 32,
   "metadata": {},
   "outputs": [],
   "source": [
    "#function to normalize data based on min-max normalization\n",
    "normalize<-function(x) {\n",
    "    return ((x-min(x))/(max(x)-min(x)))\n",
    "}"
   ]
  },
  {
   "cell_type": "code",
   "execution_count": 33,
   "metadata": {},
   "outputs": [
    {
     "data": {
      "text/plain": [
       "  radius_mean      texture_mean    perimeter_mean     area_mean     \n",
       " Min.   :0.0000   Min.   :0.0000   Min.   :0.0000   Min.   :0.0000  \n",
       " 1st Qu.:0.2233   1st Qu.:0.2185   1st Qu.:0.2168   1st Qu.:0.1174  \n",
       " Median :0.3024   Median :0.3088   Median :0.2933   Median :0.1729  \n",
       " Mean   :0.3382   Mean   :0.3240   Mean   :0.3329   Mean   :0.2169  \n",
       " 3rd Qu.:0.4164   3rd Qu.:0.4089   3rd Qu.:0.4168   3rd Qu.:0.2711  \n",
       " Max.   :1.0000   Max.   :1.0000   Max.   :1.0000   Max.   :1.0000  \n",
       " smoothness_mean  compactness_mean concavity_mean     points_mean    \n",
       " Min.   :0.0000   Min.   :0.0000   Min.   :0.00000   Min.   :0.0000  \n",
       " 1st Qu.:0.3046   1st Qu.:0.1397   1st Qu.:0.06926   1st Qu.:0.1009  \n",
       " Median :0.3904   Median :0.2247   Median :0.14419   Median :0.1665  \n",
       " Mean   :0.3948   Mean   :0.2606   Mean   :0.20806   Mean   :0.2431  \n",
       " 3rd Qu.:0.4755   3rd Qu.:0.3405   3rd Qu.:0.30623   3rd Qu.:0.3678  \n",
       " Max.   :1.0000   Max.   :1.0000   Max.   :1.00000   Max.   :1.0000  \n",
       " symmetry_mean    dimension_mean     radius_se         texture_se    \n",
       " Min.   :0.0000   Min.   :0.0000   Min.   :0.00000   Min.   :0.0000  \n",
       " 1st Qu.:0.2823   1st Qu.:0.1630   1st Qu.:0.04378   1st Qu.:0.1047  \n",
       " Median :0.3697   Median :0.2439   Median :0.07702   Median :0.1653  \n",
       " Mean   :0.3796   Mean   :0.2704   Mean   :0.10635   Mean   :0.1893  \n",
       " 3rd Qu.:0.4530   3rd Qu.:0.3404   3rd Qu.:0.13304   3rd Qu.:0.2462  \n",
       " Max.   :1.0000   Max.   :1.0000   Max.   :1.00000   Max.   :1.0000  \n",
       "  perimeter_se        area_se        smoothness_se    compactness_se   \n",
       " Min.   :0.00000   Min.   :0.00000   Min.   :0.0000   Min.   :0.00000  \n",
       " 1st Qu.:0.04000   1st Qu.:0.02064   1st Qu.:0.1175   1st Qu.:0.08132  \n",
       " Median :0.07209   Median :0.03311   Median :0.1586   Median :0.13667  \n",
       " Mean   :0.09938   Mean   :0.06264   Mean   :0.1811   Mean   :0.17444  \n",
       " 3rd Qu.:0.12251   3rd Qu.:0.07170   3rd Qu.:0.2187   3rd Qu.:0.22680  \n",
       " Max.   :1.00000   Max.   :1.00000   Max.   :1.0000   Max.   :1.00000  \n",
       "  concavity_se       points_se       symmetry_se      dimension_se    \n",
       " Min.   :0.00000   Min.   :0.0000   Min.   :0.0000   Min.   :0.00000  \n",
       " 1st Qu.:0.03811   1st Qu.:0.1447   1st Qu.:0.1024   1st Qu.:0.04675  \n",
       " Median :0.06538   Median :0.2070   Median :0.1526   Median :0.07919  \n",
       " Mean   :0.08054   Mean   :0.2235   Mean   :0.1781   Mean   :0.10019  \n",
       " 3rd Qu.:0.10619   3rd Qu.:0.2787   3rd Qu.:0.2195   3rd Qu.:0.12656  \n",
       " Max.   :1.00000   Max.   :1.0000   Max.   :1.0000   Max.   :1.00000  \n",
       "  radius_worst    texture_worst    perimeter_worst    area_worst     \n",
       " Min.   :0.0000   Min.   :0.0000   Min.   :0.0000   Min.   :0.00000  \n",
       " 1st Qu.:0.1807   1st Qu.:0.2415   1st Qu.:0.1678   1st Qu.:0.08113  \n",
       " Median :0.2504   Median :0.3569   Median :0.2353   Median :0.12321  \n",
       " Mean   :0.2967   Mean   :0.3640   Mean   :0.2831   Mean   :0.17091  \n",
       " 3rd Qu.:0.3863   3rd Qu.:0.4717   3rd Qu.:0.3735   3rd Qu.:0.22090  \n",
       " Max.   :1.0000   Max.   :1.0000   Max.   :1.0000   Max.   :1.00000  \n",
       " smoothness_worst compactness_worst concavity_worst    points_worst   \n",
       " Min.   :0.0000   Min.   :0.0000    Min.   :0.00000   Min.   :0.0000  \n",
       " 1st Qu.:0.3000   1st Qu.:0.1163    1st Qu.:0.09145   1st Qu.:0.2231  \n",
       " Median :0.3971   Median :0.1791    Median :0.18107   Median :0.3434  \n",
       " Mean   :0.4041   Mean   :0.2202    Mean   :0.21740   Mean   :0.3938  \n",
       " 3rd Qu.:0.4942   3rd Qu.:0.3025    3rd Qu.:0.30583   3rd Qu.:0.5546  \n",
       " Max.   :1.0000   Max.   :1.0000    Max.   :1.00000   Max.   :1.0000  \n",
       " symmetry_worst   dimension_worst \n",
       " Min.   :0.0000   Min.   :0.0000  \n",
       " 1st Qu.:0.1851   1st Qu.:0.1077  \n",
       " Median :0.2478   Median :0.1640  \n",
       " Mean   :0.2633   Mean   :0.1896  \n",
       " 3rd Qu.:0.3182   3rd Qu.:0.2429  \n",
       " Max.   :1.0000   Max.   :1.0000  "
      ]
     },
     "metadata": {},
     "output_type": "display_data"
    }
   ],
   "source": [
    "#normalize data frame\n",
    "wbcd_n<-as.data.frame(lapply(wbcd[2:31],normalize))\n",
    "summary(wbcd_n)"
   ]
  },
  {
   "cell_type": "code",
   "execution_count": 34,
   "metadata": {},
   "outputs": [],
   "source": [
    "#prepare train and test datasets\n",
    "wbcd_train<-wbcd_n[1:469,]\n",
    "wbcd_test<-wbcd_n[470:569,]"
   ]
  },
  {
   "cell_type": "code",
   "execution_count": 40,
   "metadata": {},
   "outputs": [],
   "source": [
    "#add diagnosis label to train and test\n",
    "wbcd_train_labels<-wbcd[1:469,1]\n",
    "wbcd_test_labels<-wbcd[470:569,1]"
   ]
  },
  {
   "cell_type": "code",
   "execution_count": 41,
   "metadata": {},
   "outputs": [],
   "source": [
    "wbcd_test_pred<-knn(train=wbcd_train,test=wbcd_test,cl=wbcd_train_labels,k=21)"
   ]
  },
  {
   "cell_type": "code",
   "execution_count": 42,
   "metadata": {},
   "outputs": [
    {
     "name": "stdout",
     "output_type": "stream",
     "text": [
      "\n",
      " \n",
      "   Cell Contents\n",
      "|-------------------------|\n",
      "|                       N |\n",
      "|           N / Row Total |\n",
      "|           N / Col Total |\n",
      "|         N / Table Total |\n",
      "|-------------------------|\n",
      "\n",
      " \n",
      "Total Observations in Table:  100 \n",
      "\n",
      " \n",
      "                 | wbcd_test_pred \n",
      "wbcd_test_labels |    Benign | Malignant | Row Total | \n",
      "-----------------|-----------|-----------|-----------|\n",
      "          Benign |        61 |         0 |        61 | \n",
      "                 |     1.000 |     0.000 |     0.610 | \n",
      "                 |     0.968 |     0.000 |           | \n",
      "                 |     0.610 |     0.000 |           | \n",
      "-----------------|-----------|-----------|-----------|\n",
      "       Malignant |         2 |        37 |        39 | \n",
      "                 |     0.051 |     0.949 |     0.390 | \n",
      "                 |     0.032 |     1.000 |           | \n",
      "                 |     0.020 |     0.370 |           | \n",
      "-----------------|-----------|-----------|-----------|\n",
      "    Column Total |        63 |        37 |       100 | \n",
      "                 |     0.630 |     0.370 |           | \n",
      "-----------------|-----------|-----------|-----------|\n",
      "\n",
      " \n"
     ]
    }
   ],
   "source": [
    "CrossTable(x=wbcd_test_labels,y=wbcd_test_pred,prop.chisq=FALSE)"
   ]
  },
  {
   "cell_type": "code",
   "execution_count": 43,
   "metadata": {},
   "outputs": [],
   "source": [
    "#normalize using z-score\n",
    "wbcd_z<-as.data.frame(scale(wbcd[-1]))"
   ]
  },
  {
   "cell_type": "code",
   "execution_count": 47,
   "metadata": {},
   "outputs": [],
   "source": [
    "#create new train&test datasets\n",
    "wbcd_train<-wbcd_z[1:469,]\n",
    "wbcd_test<-wbcd_z[470:569,]\n",
    "wbcd_train_labels<-wbcd[1:469,1]\n",
    "wbcd_test_labels<-wbcd[470:569,1]"
   ]
  },
  {
   "cell_type": "code",
   "execution_count": 55,
   "metadata": {},
   "outputs": [
    {
     "name": "stdout",
     "output_type": "stream",
     "text": [
      "\n",
      " \n",
      "   Cell Contents\n",
      "|-------------------------|\n",
      "|                       N |\n",
      "|           N / Row Total |\n",
      "|           N / Col Total |\n",
      "|         N / Table Total |\n",
      "|-------------------------|\n",
      "\n",
      " \n",
      "Total Observations in Table:  100 \n",
      "\n",
      " \n",
      "                 | wbcd_test_pred \n",
      "wbcd_test_labels |    Benign | Malignant | Row Total | \n",
      "-----------------|-----------|-----------|-----------|\n",
      "          Benign |        61 |         0 |        61 | \n",
      "                 |     1.000 |     0.000 |     0.610 | \n",
      "                 |     0.924 |     0.000 |           | \n",
      "                 |     0.610 |     0.000 |           | \n",
      "-----------------|-----------|-----------|-----------|\n",
      "       Malignant |         5 |        34 |        39 | \n",
      "                 |     0.128 |     0.872 |     0.390 | \n",
      "                 |     0.076 |     1.000 |           | \n",
      "                 |     0.050 |     0.340 |           | \n",
      "-----------------|-----------|-----------|-----------|\n",
      "    Column Total |        66 |        34 |       100 | \n",
      "                 |     0.660 |     0.340 |           | \n",
      "-----------------|-----------|-----------|-----------|\n",
      "\n",
      " \n"
     ]
    }
   ],
   "source": [
    "wbcd_test_pred<-knn(train=wbcd_train,test=wbcd_test,cl=wbcd_train_labels,k=21)\n",
    "CrossTable(x=wbcd_test_labels,y=wbcd_test_pred,prop.chisq=FALSE)"
   ]
  },
  {
   "cell_type": "code",
   "execution_count": 49,
   "metadata": {},
   "outputs": [
    {
     "name": "stdout",
     "output_type": "stream",
     "text": [
      "\n",
      " \n",
      "   Cell Contents\n",
      "|-------------------------|\n",
      "|                       N |\n",
      "|           N / Row Total |\n",
      "|           N / Col Total |\n",
      "|         N / Table Total |\n",
      "|-------------------------|\n",
      "\n",
      " \n",
      "Total Observations in Table:  100 \n",
      "\n",
      " \n",
      "                 | wbcd_test_pred \n",
      "wbcd_test_labels |    Benign | Malignant | Row Total | \n",
      "-----------------|-----------|-----------|-----------|\n",
      "          Benign |        61 |         0 |        61 | \n",
      "                 |     1.000 |     0.000 |     0.610 | \n",
      "                 |     0.924 |     0.000 |           | \n",
      "                 |     0.610 |     0.000 |           | \n",
      "-----------------|-----------|-----------|-----------|\n",
      "       Malignant |         5 |        34 |        39 | \n",
      "                 |     0.128 |     0.872 |     0.390 | \n",
      "                 |     0.076 |     1.000 |           | \n",
      "                 |     0.050 |     0.340 |           | \n",
      "-----------------|-----------|-----------|-----------|\n",
      "    Column Total |        66 |        34 |       100 | \n",
      "                 |     0.660 |     0.340 |           | \n",
      "-----------------|-----------|-----------|-----------|\n",
      "\n",
      " \n"
     ]
    }
   ],
   "source": []
  },
  {
   "cell_type": "code",
   "execution_count": null,
   "metadata": {},
   "outputs": [],
   "source": []
  }
 ],
 "metadata": {
  "kernelspec": {
   "display_name": "R",
   "language": "R",
   "name": "ir"
  },
  "language_info": {
   "codemirror_mode": "r",
   "file_extension": ".r",
   "mimetype": "text/x-r-source",
   "name": "R",
   "pygments_lexer": "r",
   "version": "3.5.1"
  }
 },
 "nbformat": 4,
 "nbformat_minor": 2
}
