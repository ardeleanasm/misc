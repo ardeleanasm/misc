{
 "cells": [
  {
   "cell_type": "markdown",
   "metadata": {},
   "source": [
    "## Independent Events\n",
    "\n",
    "For 2 independent events A and B, the probability that both to occur is calculated as:\n",
    "\\begin{equation}\n",
    "    P(A \\cap B) = P(A) * P(B).\n",
    "    \\label{eq:indev}\n",
    "\\end{equation}"
   ]
  },
  {
   "cell_type": "markdown",
   "metadata": {},
   "source": [
    "## Dependent Events\n",
    "\n",
    "The relationships between dependent events can be described using Bayes' theorem:\n",
    "\\begin{equation}\n",
    "    P(A|B)=\\frac{P(A\\cap B)}{P(B)}=\\frac{P(B|A)P(A)}{P(B)}\n",
    "    \\label{eq:bayes}\n",
    "\\end{equation}"
   ]
  },
  {
   "cell_type": "code",
   "execution_count": 28,
   "metadata": {},
   "outputs": [],
   "source": [
    "#library(ggplot2)\n",
    "#library(repr)\n",
    "#library(class)\n",
    "library(gmodels)\n",
    "library(SnowballC)\n",
    "library(tm)\n",
    "library(e1071)\n",
    "sms_raw <- read.csv(\"sms_spam.csv\", stringsAsFactors = FALSE)"
   ]
  },
  {
   "cell_type": "code",
   "execution_count": 17,
   "metadata": {},
   "outputs": [
    {
     "name": "stdout",
     "output_type": "stream",
     "text": [
      "'data.frame':\t5559 obs. of  2 variables:\n",
      " $ type: chr  \"ham\" \"ham\" \"ham\" \"spam\" ...\n",
      " $ text: chr  \"Hope you are having a good week. Just checking in\" \"K..give back my thanks.\" \"Am also doing in cbe only. But have to pay.\" \"complimentary 4 STAR Ibiza Holiday or Â£10,000 cash needs your URGENT collection. 09066364349 NOW from Landline\"| __truncated__ ...\n"
     ]
    }
   ],
   "source": [
    "str(sms_raw)"
   ]
  },
  {
   "cell_type": "code",
   "execution_count": 18,
   "metadata": {},
   "outputs": [],
   "source": [
    "#convert type to factor\n",
    "sms_raw$type<-factor(sms_raw$type)"
   ]
  },
  {
   "cell_type": "code",
   "execution_count": 21,
   "metadata": {},
   "outputs": [],
   "source": [
    "sms_corpus <- VCorpus(VectorSource(sms_raw$text))\n",
    "sms_corpus_clean <- tm_map(sms_corpus,content_transformer(tolower))\n",
    "sms_corpus_clean <- tm_map(sms_corpus_clean, removeNumbers)\n",
    "sms_corpus_clean <- tm_map(sms_corpus_clean,removeWords, stopwords())\n",
    "sms_corpus_clean <- tm_map(sms_corpus_clean, removePunctuation)\n",
    "sms_corpus_clean <- tm_map(sms_corpus_clean, stemDocument)\n",
    "sms_corpus_clean <- tm_map(sms_corpus_clean, stripWhitespace)"
   ]
  },
  {
   "cell_type": "code",
   "execution_count": 22,
   "metadata": {},
   "outputs": [],
   "source": [
    "sms_dtm <- DocumentTermMatrix(sms_corpus_clean)"
   ]
  },
  {
   "cell_type": "code",
   "execution_count": 23,
   "metadata": {},
   "outputs": [],
   "source": [
    "sms_dtm_train <- sms_dtm[1:4169, ]\n",
    "sms_dtm_test <- sms_dtm[4170:5559, ]\n",
    "sms_train_labels <- sms_raw[1:4169, ]$type\n",
    "sms_test_labels <- sms_raw[4170:5559, ]$type"
   ]
  },
  {
   "cell_type": "code",
   "execution_count": 24,
   "metadata": {},
   "outputs": [],
   "source": [
    "sms_freq_words <- findFreqTerms(sms_dtm_train, 5)"
   ]
  },
  {
   "cell_type": "code",
   "execution_count": 25,
   "metadata": {},
   "outputs": [],
   "source": [
    "sms_dtm_freq_train<- sms_dtm_train[ , sms_freq_words]\n",
    "sms_dtm_freq_test <- sms_dtm_test[ , sms_freq_words]\n",
    "convert_counts <- function(x) {\n",
    "    x <- ifelse(x > 0, \"Yes\", \"No\")\n",
    "}"
   ]
  },
  {
   "cell_type": "code",
   "execution_count": 26,
   "metadata": {},
   "outputs": [],
   "source": [
    "sms_train <- apply(sms_dtm_freq_train, MARGIN = 2,convert_counts)\n",
    "sms_test <- apply(sms_dtm_freq_test, MARGIN = 2,convert_counts)"
   ]
  },
  {
   "cell_type": "code",
   "execution_count": 29,
   "metadata": {},
   "outputs": [],
   "source": [
    "sms_classifier <- naiveBayes(sms_train, sms_train_labels)"
   ]
  },
  {
   "cell_type": "code",
   "execution_count": 30,
   "metadata": {},
   "outputs": [],
   "source": [
    "sms_test_pred <- predict(sms_classifier, sms_test)"
   ]
  },
  {
   "cell_type": "code",
   "execution_count": 31,
   "metadata": {},
   "outputs": [
    {
     "name": "stdout",
     "output_type": "stream",
     "text": [
      "\n",
      " \n",
      "   Cell Contents\n",
      "|-------------------------|\n",
      "|                       N |\n",
      "|           N / Row Total |\n",
      "|           N / Col Total |\n",
      "|-------------------------|\n",
      "\n",
      " \n",
      "Total Observations in Table:  1390 \n",
      "\n",
      " \n",
      "             | actual \n",
      "   predicted |       ham |      spam | Row Total | \n",
      "-------------|-----------|-----------|-----------|\n",
      "         ham |      1201 |        30 |      1231 | \n",
      "             |     0.976 |     0.024 |     0.886 | \n",
      "             |     0.995 |     0.164 |           | \n",
      "-------------|-----------|-----------|-----------|\n",
      "        spam |         6 |       153 |       159 | \n",
      "             |     0.038 |     0.962 |     0.114 | \n",
      "             |     0.005 |     0.836 |           | \n",
      "-------------|-----------|-----------|-----------|\n",
      "Column Total |      1207 |       183 |      1390 | \n",
      "             |     0.868 |     0.132 |           | \n",
      "-------------|-----------|-----------|-----------|\n",
      "\n",
      " \n"
     ]
    }
   ],
   "source": [
    "CrossTable(sms_test_pred, sms_test_labels,prop.chisq = FALSE, prop.t = FALSE,dnn = c('predicted', 'actual'))"
   ]
  },
  {
   "cell_type": "code",
   "execution_count": null,
   "metadata": {},
   "outputs": [],
   "source": []
  }
 ],
 "metadata": {
  "kernelspec": {
   "display_name": "R",
   "language": "R",
   "name": "ir"
  },
  "language_info": {
   "codemirror_mode": "r",
   "file_extension": ".r",
   "mimetype": "text/x-r-source",
   "name": "R",
   "pygments_lexer": "r",
   "version": "3.5.1"
  }
 },
 "nbformat": 4,
 "nbformat_minor": 2
}
