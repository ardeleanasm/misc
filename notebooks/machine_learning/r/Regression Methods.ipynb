{
 "cells": [
  {
   "cell_type": "markdown",
   "metadata": {},
   "source": [
    "# Regression"
   ]
  },
  {
   "cell_type": "markdown",
   "metadata": {},
   "source": [
    "Regression is concerned with specifying the relationship between a single numeric dependent variable (the value to be predicted) and one or more numeric independent variables (the predictors).\n"
   ]
  },
  {
   "cell_type": "markdown",
   "metadata": {},
   "source": [
    "## Simple linear regression"
   ]
  },
  {
   "cell_type": "markdown",
   "metadata": {},
   "source": [
    "A simple linear regression model defines the relationship between a dependent variable and a single independent predictor variable using a line defined by an equation in the following form:\n",
    "\n",
    "\\begin{equation}\n",
    "    y=\\alpha+\\beta x\n",
    "    \\label{eq:simpllinregr}\n",
    "\\end{equation}"
   ]
  },
  {
   "cell_type": "markdown",
   "metadata": {},
   "source": [
    "## Ordinary least squares estimation"
   ]
  },
  {
   "cell_type": "markdown",
   "metadata": {},
   "source": [
    "In mathematical terms, the goal of Ordinay Least Squares regression can be expressed as the task of minimizing the following equation:\n",
    "\n",
    "\\begin{equation}\n",
    "    \\sum (y_i-\\hat{y}_i)=\\sum e_{i}^2\n",
    "    \\label{eq:olserror}\n",
    "\\end{equation}\n",
    "\n",
    "Moreover, the solution for *a* depends on the value of *b*. It can be obtained using the following formula:\n",
    "$$ a=\\bar{y}-b\\bar{x}$$ where \n",
    "\n",
    "\\begin{equation}\n",
    "        b=\\frac{Cov(x,y)}{Var(x)}\n",
    "    \\label{eq:b}\n",
    "\\end{equation}\n",
    "\n",
    "and \n",
    "\\begin{equation}\n",
    "    Cov(x,y)=\\frac{\\sum (x_i-\\bar{x})(y_i-\\bar{y})}{n}, \n",
    "    Var(x)=\\frac{\\sum (x_i-\\bar{x})^2}{n}\n",
    "    \\label{eq:covarianceandvariance}\n",
    "\\end{equation}"
   ]
  },
  {
   "cell_type": "code",
   "execution_count": 16,
   "metadata": {},
   "outputs": [],
   "source": [
    "library(psych)\n",
    "library(ggplot2)\n",
    "library(repr)\n",
    "library(gmodels)\n",
    "options(repr.plot.width=3.5, repr.plot.height=3) # Set the initial plot area dimensions"
   ]
  },
  {
   "cell_type": "code",
   "execution_count": 15,
   "metadata": {},
   "outputs": [],
   "source": [
    "insurance <- read.csv(\"insurance.csv\", stringsAsFactors = TRUE)"
   ]
  },
  {
   "cell_type": "code",
   "execution_count": 10,
   "metadata": {},
   "outputs": [
    {
     "name": "stdout",
     "output_type": "stream",
     "text": [
      "'data.frame':\t1338 obs. of  7 variables:\n",
      " $ age     : int  19 18 28 33 32 31 46 37 37 60 ...\n",
      " $ sex     : Factor w/ 2 levels \"female\",\"male\": 1 2 2 2 2 1 1 1 2 1 ...\n",
      " $ bmi     : num  27.9 33.8 33 22.7 28.9 25.7 33.4 27.7 29.8 25.8 ...\n",
      " $ children: int  0 1 3 0 0 0 1 3 2 0 ...\n",
      " $ smoker  : Factor w/ 2 levels \"no\",\"yes\": 2 1 1 1 1 1 1 1 1 1 ...\n",
      " $ region  : Factor w/ 4 levels \"northeast\",\"northwest\",..: 4 3 3 2 2 3 3 2 1 2 ...\n",
      " $ expenses: num  16885 1726 4449 21984 3867 ...\n"
     ]
    }
   ],
   "source": [
    "str(insurance)"
   ]
  },
  {
   "cell_type": "code",
   "execution_count": 11,
   "metadata": {},
   "outputs": [
    {
     "data": {
      "text/plain": [
       "   Min. 1st Qu.  Median    Mean 3rd Qu.    Max. \n",
       "   1122    4740    9382   13270   16640   63770 "
      ]
     },
     "metadata": {},
     "output_type": "display_data"
    },
    {
     "data": {},
     "metadata": {},
     "output_type": "display_data"
    },
    {
     "data": {
      "image/png": "[encoded data removed]",
      "text/plain": [
       "plot without title"
      ]
     },
     "metadata": {},
     "output_type": "display_data"
    }
   ],
   "source": [
    "#check expenses\n",
    "summary(insurance$expenses)\n",
    "#plot histogram\n",
    "ggplot(insurance, aes(expenses)) + geom_histogram(fill = 'blue', bins = 10) +\n",
    "       xlab('expenses') + ylab('frequency')"
   ]
  },
  {
   "cell_type": "code",
   "execution_count": 12,
   "metadata": {},
   "outputs": [
    {
     "data": {
      "image/png": "[encoded data removed]",
      "text/plain": [
       "plot without title"
      ]
     },
     "metadata": {},
     "output_type": "display_data"
    }
   ],
   "source": [
    "pairs(insurance[c(\"age\", \"bmi\", \"children\", \"expenses\")])"
   ]
  },
  {
   "cell_type": "code",
   "execution_count": 17,
   "metadata": {},
   "outputs": [
    {
     "data": {
      "image/png": "[encoded data removed]",
      "text/plain": [
       "plot without title"
      ]
     },
     "metadata": {},
     "output_type": "display_data"
    }
   ],
   "source": [
    "pairs.panels(insurance[c(\"age\", \"bmi\", \"children\", \"expenses\")])"
   ]
  },
  {
   "cell_type": "code",
   "execution_count": 18,
   "metadata": {},
   "outputs": [],
   "source": [
    "ins_model <- lm(expenses ~ age + children + bmi + sex +smoker + region, data = insurance)"
   ]
  },
  {
   "cell_type": "code",
   "execution_count": 19,
   "metadata": {},
   "outputs": [
    {
     "data": {
      "text/plain": [
       "\n",
       "Call:\n",
       "lm(formula = expenses ~ age + children + bmi + sex + smoker + \n",
       "    region, data = insurance)\n",
       "\n",
       "Residuals:\n",
       "     Min       1Q   Median       3Q      Max \n",
       "-11302.7  -2850.9   -979.6   1383.9  29981.7 \n",
       "\n",
       "Coefficients:\n",
       "                Estimate Std. Error t value Pr(>|t|)    \n",
       "(Intercept)     -11941.6      987.8 -12.089  < 2e-16 ***\n",
       "age                256.8       11.9  21.586  < 2e-16 ***\n",
       "children           475.7      137.8   3.452 0.000574 ***\n",
       "bmi                339.3       28.6  11.864  < 2e-16 ***\n",
       "sexmale           -131.3      332.9  -0.395 0.693255    \n",
       "smokeryes        23847.5      413.1  57.723  < 2e-16 ***\n",
       "regionnorthwest   -352.8      476.3  -0.741 0.458976    \n",
       "regionsoutheast  -1035.6      478.7  -2.163 0.030685 *  \n",
       "regionsouthwest   -959.3      477.9  -2.007 0.044921 *  \n",
       "---\n",
       "Signif. codes:  0 '***' 0.001 '**' 0.01 '*' 0.05 '.' 0.1 ' ' 1\n",
       "\n",
       "Residual standard error: 6062 on 1329 degrees of freedom\n",
       "Multiple R-squared:  0.7509,\tAdjusted R-squared:  0.7494 \n",
       "F-statistic: 500.9 on 8 and 1329 DF,  p-value: < 2.2e-16\n"
      ]
     },
     "metadata": {},
     "output_type": "display_data"
    }
   ],
   "source": [
    "summary(ins_model)"
   ]
  },
  {
   "cell_type": "code",
   "execution_count": 21,
   "metadata": {},
   "outputs": [],
   "source": [
    "insurance$age2 <- insurance$age^2\n",
    "insurance$bmi30 <- ifelse(insurance$bmi >= 30, 1, 0)"
   ]
  },
  {
   "cell_type": "code",
   "execution_count": 22,
   "metadata": {},
   "outputs": [],
   "source": [
    "ins_model2 <- lm(expenses ~ age + age2 + children + bmi + sex +bmi30*smoker + region, data = insurance)"
   ]
  },
  {
   "cell_type": "code",
   "execution_count": 23,
   "metadata": {},
   "outputs": [
    {
     "data": {
      "text/plain": [
       "\n",
       "Call:\n",
       "lm(formula = expenses ~ age + age2 + children + bmi + sex + bmi30 * \n",
       "    smoker + region, data = insurance)\n",
       "\n",
       "Residuals:\n",
       "     Min       1Q   Median       3Q      Max \n",
       "-17297.1  -1656.0  -1262.7   -727.8  24161.6 \n",
       "\n",
       "Coefficients:\n",
       "                  Estimate Std. Error t value Pr(>|t|)    \n",
       "(Intercept)       139.0053  1363.1359   0.102 0.918792    \n",
       "age               -32.6181    59.8250  -0.545 0.585690    \n",
       "age2                3.7307     0.7463   4.999 6.54e-07 ***\n",
       "children          678.6017   105.8855   6.409 2.03e-10 ***\n",
       "bmi               119.7715    34.2796   3.494 0.000492 ***\n",
       "sexmale          -496.7690   244.3713  -2.033 0.042267 *  \n",
       "bmi30            -997.9355   422.9607  -2.359 0.018449 *  \n",
       "smokeryes       13404.5952   439.9591  30.468  < 2e-16 ***\n",
       "regionnorthwest  -279.1661   349.2826  -0.799 0.424285    \n",
       "regionsoutheast  -828.0345   351.6484  -2.355 0.018682 *  \n",
       "regionsouthwest -1222.1619   350.5314  -3.487 0.000505 ***\n",
       "bmi30:smokeryes 19810.1534   604.6769  32.762  < 2e-16 ***\n",
       "---\n",
       "Signif. codes:  0 '***' 0.001 '**' 0.01 '*' 0.05 '.' 0.1 ' ' 1\n",
       "\n",
       "Residual standard error: 4445 on 1326 degrees of freedom\n",
       "Multiple R-squared:  0.8664,\tAdjusted R-squared:  0.8653 \n",
       "F-statistic: 781.7 on 11 and 1326 DF,  p-value: < 2.2e-16\n"
      ]
     },
     "metadata": {},
     "output_type": "display_data"
    }
   ],
   "source": [
    "summary(ins_model2)"
   ]
  },
  {
   "cell_type": "markdown",
   "metadata": {},
   "source": [
    "## Regression trees and model trees"
   ]
  },
  {
   "cell_type": "code",
   "execution_count": 16,
   "metadata": {},
   "outputs": [],
   "source": [
    "library(ggplot2)\n",
    "library(repr)\n",
    "library(gmodels)\n",
    "options(repr.plot.width=3.5, repr.plot.height=3) # Set the initial plot area dimensions\n",
    "library(rpart) # for regression trees\n",
    "library(rpart.plot) #for viewing regression trees\n",
    "library(RWeka)"
   ]
  },
  {
   "cell_type": "code",
   "execution_count": 17,
   "metadata": {},
   "outputs": [],
   "source": [
    "wine <- read.csv(\"whitewines.csv\")"
   ]
  },
  {
   "cell_type": "code",
   "execution_count": 18,
   "metadata": {},
   "outputs": [
    {
     "name": "stdout",
     "output_type": "stream",
     "text": [
      "'data.frame':\t4898 obs. of  12 variables:\n",
      " $ fixed.acidity       : num  6.7 5.7 5.9 5.3 6.4 7 7.9 6.6 7 6.5 ...\n",
      " $ volatile.acidity    : num  0.62 0.22 0.19 0.47 0.29 0.14 0.12 0.38 0.16 0.37 ...\n",
      " $ citric.acid         : num  0.24 0.2 0.26 0.1 0.21 0.41 0.49 0.28 0.3 0.33 ...\n",
      " $ residual.sugar      : num  1.1 16 7.4 1.3 9.65 0.9 5.2 2.8 2.6 3.9 ...\n",
      " $ chlorides           : num  0.039 0.044 0.034 0.036 0.041 0.037 0.049 0.043 0.043 0.027 ...\n",
      " $ free.sulfur.dioxide : num  6 41 33 11 36 22 33 17 34 40 ...\n",
      " $ total.sulfur.dioxide: num  62 113 123 74 119 95 152 67 90 130 ...\n",
      " $ density             : num  0.993 0.999 0.995 0.991 0.993 ...\n",
      " $ pH                  : num  3.41 3.22 3.49 3.48 2.99 3.25 3.18 3.21 2.88 3.28 ...\n",
      " $ sulphates           : num  0.32 0.46 0.42 0.54 0.34 0.43 0.47 0.47 0.47 0.39 ...\n",
      " $ alcohol             : num  10.4 8.9 10.1 11.2 10.9 ...\n",
      " $ quality             : int  5 6 6 4 6 6 6 6 6 7 ...\n"
     ]
    },
    {
     "data": {},
     "metadata": {},
     "output_type": "display_data"
    },
    {
     "data": {
      "image/png": "[encoded data removed]",
      "text/plain": [
       "plot without title"
      ]
     },
     "metadata": {},
     "output_type": "display_data"
    }
   ],
   "source": [
    "str(wine)\n",
    "ggplot(wine, aes(quality)) + geom_histogram(fill = 'blue', bins = 10) +\n",
    "       xlab('quality') + ylab('frequency')"
   ]
  },
  {
   "cell_type": "code",
   "execution_count": 19,
   "metadata": {},
   "outputs": [],
   "source": [
    "wine_train <- wine[1:3750, ]\n",
    "wine_test <- wine[3751:4898, ]"
   ]
  },
  {
   "cell_type": "code",
   "execution_count": 20,
   "metadata": {},
   "outputs": [],
   "source": [
    "m.rpart <- rpart(quality ~ ., data = wine_train)"
   ]
  },
  {
   "cell_type": "code",
   "execution_count": 21,
   "metadata": {},
   "outputs": [
    {
     "data": {
      "image/png": "[encoded data removed]",
      "text/plain": [
       "plot without title"
      ]
     },
     "metadata": {},
     "output_type": "display_data"
    }
   ],
   "source": [
    "rpart.plot(m.rpart, digits = 3)"
   ]
  },
  {
   "cell_type": "code",
   "execution_count": 22,
   "metadata": {},
   "outputs": [
    {
     "data": {
      "image/png": "[encoded data removed]",
      "text/plain": [
       "plot without title"
      ]
     },
     "metadata": {},
     "output_type": "display_data"
    }
   ],
   "source": [
    "rpart.plot(m.rpart, digits = 4, fallen.leaves = TRUE,\n",
    "type = 3, extra = 101)"
   ]
  },
  {
   "cell_type": "code",
   "execution_count": 23,
   "metadata": {},
   "outputs": [],
   "source": [
    "p.rpart <- predict(m.rpart, wine_test)"
   ]
  },
  {
   "cell_type": "code",
   "execution_count": 24,
   "metadata": {},
   "outputs": [
    {
     "data": {
      "text/plain": [
       "   Min. 1st Qu.  Median    Mean 3rd Qu.    Max. \n",
       "  4.545   5.563   5.971   5.893   6.202   6.597 "
      ]
     },
     "metadata": {},
     "output_type": "display_data"
    }
   ],
   "source": [
    "summary(p.rpart)"
   ]
  },
  {
   "cell_type": "code",
   "execution_count": 25,
   "metadata": {},
   "outputs": [
    {
     "data": {
      "text/plain": [
       "   Min. 1st Qu.  Median    Mean 3rd Qu.    Max. \n",
       "  3.000   5.000   6.000   5.901   6.000   9.000 "
      ]
     },
     "metadata": {},
     "output_type": "display_data"
    }
   ],
   "source": [
    "summary(wine_test$quality)"
   ]
  },
  {
   "cell_type": "code",
   "execution_count": 26,
   "metadata": {},
   "outputs": [],
   "source": [
    "MAE <- function(actual, predicted) { #mean absolute error to measure performance\n",
    "    mean(abs(actual - predicted))\n",
    "}"
   ]
  },
  {
   "cell_type": "code",
   "execution_count": 27,
   "metadata": {},
   "outputs": [
    {
     "data": {
      "text/html": [
       "0.587265173945366"
      ],
      "text/latex": [
       "0.587265173945366"
      ],
      "text/markdown": [
       "0.587265173945366"
      ],
      "text/plain": [
       "[1] 0.5872652"
      ]
     },
     "metadata": {},
     "output_type": "display_data"
    }
   ],
   "source": [
    "MAE(p.rpart, wine_test$quality)"
   ]
  },
  {
   "cell_type": "code",
   "execution_count": 28,
   "metadata": {},
   "outputs": [],
   "source": [
    "m.m5p <- M5P(quality ~ ., data = wine_train)"
   ]
  },
  {
   "cell_type": "code",
   "execution_count": 30,
   "metadata": {},
   "outputs": [
    {
     "data": {
      "text/plain": [
       "\n",
       "=== Summary ===\n",
       "\n",
       "Correlation coefficient                  0.6666\n",
       "Mean absolute error                      0.5151\n",
       "Root mean squared error                  0.6614\n",
       "Relative absolute error                 76.4921 %\n",
       "Root relative squared error             74.6259 %\n",
       "Total Number of Instances             3750     "
      ]
     },
     "metadata": {},
     "output_type": "display_data"
    }
   ],
   "source": [
    "summary(m.m5p)"
   ]
  },
  {
   "cell_type": "code",
   "execution_count": 31,
   "metadata": {},
   "outputs": [],
   "source": [
    "p.m5p <- predict(m.m5p, wine_test)"
   ]
  },
  {
   "cell_type": "code",
   "execution_count": 32,
   "metadata": {},
   "outputs": [
    {
     "data": {
      "text/plain": [
       "   Min. 1st Qu.  Median    Mean 3rd Qu.    Max. \n",
       "  4.389   5.430   5.863   5.874   6.305   7.437 "
      ]
     },
     "metadata": {},
     "output_type": "display_data"
    }
   ],
   "source": [
    "summary(p.m5p)"
   ]
  },
  {
   "cell_type": "code",
   "execution_count": 33,
   "metadata": {},
   "outputs": [
    {
     "data": {
      "text/html": [
       "0.627297294215539"
      ],
      "text/latex": [
       "0.627297294215539"
      ],
      "text/markdown": [
       "0.627297294215539"
      ],
      "text/plain": [
       "[1] 0.6272973"
      ]
     },
     "metadata": {},
     "output_type": "display_data"
    }
   ],
   "source": [
    "cor(p.m5p, wine_test$quality)"
   ]
  },
  {
   "cell_type": "code",
   "execution_count": 34,
   "metadata": {},
   "outputs": [
    {
     "data": {
      "text/html": [
       "0.546302276753945"
      ],
      "text/latex": [
       "0.546302276753945"
      ],
      "text/markdown": [
       "0.546302276753945"
      ],
      "text/plain": [
       "[1] 0.5463023"
      ]
     },
     "metadata": {},
     "output_type": "display_data"
    }
   ],
   "source": [
    "MAE(wine_test$quality, p.m5p)"
   ]
  },
  {
   "cell_type": "code",
   "execution_count": null,
   "metadata": {},
   "outputs": [],
   "source": []
  }
 ],
 "metadata": {
  "kernelspec": {
   "display_name": "R",
   "language": "R",
   "name": "ir"
  },
  "language_info": {
   "codemirror_mode": "r",
   "file_extension": ".r",
   "mimetype": "text/x-r-source",
   "name": "R",
   "pygments_lexer": "r",
   "version": "3.5.1"
  }
 },
 "nbformat": 4,
 "nbformat_minor": 2
}
